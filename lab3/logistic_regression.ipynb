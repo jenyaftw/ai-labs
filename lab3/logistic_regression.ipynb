{
  "nbformat": 4,
  "nbformat_minor": 0,
  "metadata": {
    "colab": {
      "name": "logistic_regression.ipynb",
      "provenance": []
    },
    "kernelspec": {
      "name": "python3",
      "display_name": "Python 3"
    },
    "language_info": {
      "name": "python"
    }
  },
  "cells": [
    {
      "cell_type": "markdown",
      "metadata": {
        "id": "mxImKw1UhQl7"
      },
      "source": [
        "<a href=\"https://colab.research.google.com/github/YKochura/ai-lab/blob/main/logistic-regression/logistic_regression.ipynb\" target=\"_parent\"><img src=\"https://colab.research.google.com/assets/colab-badge.svg\" alt=\"Open In Colab\"/></a>"
      ]
    },
    {
      "cell_type": "markdown",
      "metadata": {
        "id": "q2XBnP5_Z0pD"
      },
      "source": [
        "**Логістична регресія** &mdash; статистичний регресійний метод, який застосовують для задач бінарної класифікації, тобто, коли модель має віднести кожен вхідний приклад до однієї з двох категорій: `0` або `1`.\n",
        "\n",
        "Наприклад, ми можемо за допомогою логістичної регресії передбачити результат складання студентом / студенткою екзамену з цього предмету `{здасть (1) / не здасть (0)}`, використовуючи інформацію про те, скільки часу було витрачено студентом / студенткою на підготовку до семінару, скільки лекцій відвідано, скільки практичних здано на оцінку `>= 6` балів, тощо.\n"
      ]
    },
    {
      "cell_type": "markdown",
      "metadata": {
        "id": "b_Lh31rnBI5b"
      },
      "source": [
        "# Модель логістичної регресії\n",
        "\n",
        "Логістичну регресію можна розглядати як одношарову нейронну мережу, яка складається з одного нелінійного нейрона.\n",
        "\n",
        "![](https://docs.google.com/uc?export=download&id=1Abx7cOwNEV0CcFHRVo4XqKMfhgBZeUdS)\n",
        "\n",
        "Метод логістичної регресії заснований на лiнiйнiй регресiї, оскільки використовується однаковий підхід: знаходження лінійної комбінації вхідних ознак (зважена сума) з урахуванням зміщення. Основна віднність між цими методами полягає у тому, що у логістичній регресії до зваженої суми вхідних ознак та зміщення, що фактично є вихідним значенням лінійної регресії, застосовується сигмоїдна функцiя активації, яка перетворює вихiд лiнiйної моделі у вихід логістичної регресії. Іншими словами, вихід (прогноз) логістичної регресії представляє собою дійсне значення, яке лежить у діапазоні вiд 0 до 1 ($\\hat y \\in [0, 1]$). Це значення можна iнтерпретувати як ймовiрнiсть приналежності вхідних даних до певного класу (0 або 1):\n",
        "\n",
        "$$p(y = 1 | z) = \\hat y  = g(z) = \\frac{1}{1 + \\exp{(-z)}} $$\n",
        "\n",
        "У випадку, коли нейрон є лінійним, тобто, коли відсутня нелінійна функція активації, тоді на виході отримуємо $\\hat y = z$, що є просто вихідним значення лінійної регресії.\n",
        "\n",
        "## Функції активації\n",
        "Нижче подано деякі загальновживані функції активації (усі нелінійні), які часто використовуються у нейронних мережах.\n",
        "\n",
        "![](https://docs.google.com/uc?export=download&id=1jNGnPUyKH7SoQton8bWAHhmKHkuLtLr4)"
      ]
    },
    {
      "cell_type": "markdown",
      "metadata": {
        "id": "sfQwoDlx-YHi"
      },
      "source": [
        "За характером навчальних даних, метод логістичної регресії відносить до контрольованого навчання (навчання з учителем). Тобто, для кожного прикладу з навчального набору даних заздалегідь підготовлена мітка (label), яка показує приналежніть цих прикладів певного класу.\n",
        "\n",
        "**Дано:**\n",
        "\n",
        "- Навчальний набір: $\\{(\\boldsymbol{X}^{(1)}, y^{(1)}), (\\boldsymbol{X}^{(2)}, y^{(2)}),..., (\\boldsymbol{X}^{(n)}, y^{(n)})\\}$\n",
        "\n",
        "  - де $\\boldsymbol{X}^{(i)}$ &mdash;  $i$-й навчальний приклад. Є $m$-вимірним вектором-стовпцем $\\boldsymbol{X}^{(i)} = (x^{(i)}_1, x^{(i)}_2, ..., x^{(i)}_m)$\n",
        "  - $n$ &mdash; загальна кількість навчальних прикладів\n",
        "  - $y^{(i)}$ &mdash; підготовлена мітка для $i$-го навчального прикладу (бінарна змінна), $y^{(i)} \\in \\{0,1\\}$\n",
        "\n",
        "Будемо використовувати наступне представелння даних у вигляді матриці:\n",
        "$$\n",
        "\\boldsymbol{X} =\n",
        "\\begin{bmatrix}\n",
        "  \\begin{array}{cccc}\n",
        "    \\rule[-1ex]{0.5pt}{2.5ex} & \\rule[-1ex]{0.5pt}{2.5ex} &        & \\rule[-1ex]{0.5pt}{2.5ex} \\\\\n",
        "   \\boldsymbol{X}^{(1)}    & \\boldsymbol{X}^{(2)}    & \\ldots & \\boldsymbol{X}^{(n)}    \\\\\n",
        "    \\rule[-1ex]{0.5pt}{2.5ex} & \\rule[-1ex]{0.5pt}{2.5ex} &        & \\rule[-1ex]{0.5pt}{2.5ex}\n",
        "  \\end{array}\n",
        "\\end{bmatrix}_{m \\times n}\n",
        "$$\n",
        "Стовпці матриці $\\boldsymbol{X}$ &mdash; окремі приклади даних, рядки &mdash; ознаки, які характеризують кожен приклад.\n",
        "\n",
        "Аналогічне представлення для прогнозів моделі:\n",
        "$$\n",
        "\\boldsymbol{Y} =\n",
        "\\begin{bmatrix}\n",
        "  \\begin{array}{cccc}\n",
        "    \\rule[-1ex]{0.5pt}{2.5ex} & \\rule[-1ex]{0.5pt}{2.5ex} &        & \\rule[-1ex]{0.5pt}{2.5ex} \\\\\n",
        "   \\boldsymbol{y}^{(1)}    & \\boldsymbol{y}^{(2)}    & \\ldots & \\boldsymbol{y}^{(n)}    \\\\\n",
        "    \\rule[-1ex]{0.5pt}{2.5ex} & \\rule[-1ex]{0.5pt}{2.5ex} &        & \\rule[-1ex]{0.5pt}{2.5ex}\n",
        "  \\end{array}\n",
        "\\end{bmatrix}_{q \\times n}\n",
        "$$\n",
        "\n",
        "$q$ &mdash; кількість нейронів у прихованому шарі. Для логістичної регресії $q = 1$.\n",
        "\n",
        "Модель логістичної регресії можна інтерпретувати як дуже просту нейронну мережу, яка:\n",
        "\n",
        "- має вектор-рядок дійсних значень ваг $\\boldsymbol{W} = \\begin{bmatrix}\n",
        "w_1 & w_2 & \\cdots & w_m\n",
        "\\end{bmatrix}$\n",
        "- має дійсне значення зміщення $b$\n",
        "- використовує сигмоїду в якості активаційної функції"
      ]
    },
    {
      "cell_type": "markdown",
      "metadata": {
        "id": "5wtEFeieFmwI"
      },
      "source": [
        "# Навчання\n",
        "\n",
        "Ми можемо навчити модель, використовуючи градієнтний спуск. Фактично, **градієнтний спуск** або будь-який інший алгоритм оптимізації дозволяє знайти глобальний мінімум цільової функції (усередненої функції втрат на всьому навчальному наборі), якщо підібрано оптимальну швидкість навчання та виконано достатню кількість ітерацій навчання.\n",
        "\n",
        "Навчання логістичної регресії має кілька етапів. На початку (крок 0) ініціалізуються параметри моделі. Інші кроки повторюються протягом певної кількості епох (навчальних ітерацій).\n",
        "\n",
        "**Крок 0:** Ініціалізувати ваги та зсув (наприклад, випадковими значеннями з нормального розподілу)\n",
        "\n",
        "**Крок 1:** Обчислити лінійну комбінацію вхідних ознак та ваг, включаючи зсув.  Це можна зробити за один крок для всіх навчальних прикладів, використовуючи [векторизацію (vectorization)](https://www.geeksforgeeks.org/vectorization-in-python/) та  [трансляцію (broadcasting)](https://www.geeksforgeeks.org/python-broadcasting-with-numpy-arrays/)\n",
        "\n",
        "$$z = W \\cdot X + b$$\n",
        "\n",
        "де $\\cdot$ скалярний добуток (поелементний добуток), $W$ &mdash;  вектор-рядок ваг з формою $(1, m)$, $X$ &mdash; матриця форми $(m, n)$.\n",
        "\n",
        "**Крок 2:** Застосувати нелінійну функцію активації (сигмоїду), яка поверне дійсне значення у проміжку між 0 та 1:\n",
        "\n",
        "$$\\hat y  = \\frac{1}{1 + \\exp(-z)}$$\n",
        "\n",
        "**Крок 3:** Обчислити усереднену втрату на всьому навчальному наборі даних. Функцію, яка визначає усереднені втрати на всьому навчальному наборі даних, часто називають цільовою функцією або імпіричним ризиком. Основна задача оптимізаційного алгоритму &mdash;  мінімізувати у процесі навчання цільову функцію на стільки, на скільки це можливо, не втрачаючи при цьому здатності моделі узагальнювати на нових даних. Для задач бінарної класифікації використовують бінарну перехресну втрату ентропії:\n",
        "\n",
        "$$J(\\hat y,y)  = - \\frac{1}{n} \\sum_{i=1}^n \\Big[ y^{(i)} \\log(\\hat{y}^{(i)}) + (1 - y^{(i)}) \\log(1 - \\hat{y}^{(i)}) \\Big]$$\n",
        "\n",
        "**Крок 4:** Розрахувати градієнти цільвої функції відносно ваг та зсуву:\n",
        "\n",
        "$$\\boxed{\\begin{aligned}\n",
        "\\frac{\\partial J(\\hat y, y)}{\\partial \\hat y} &= \\frac{1}{n} \\big [-\\frac{y}{\\hat y} + \\frac{1- y}{1 - \\hat y} \\big ] \\\\[12pt]\n",
        "\\frac{\\partial J(\\hat y, y)}{\\partial z} &= \\frac{\\partial J(\\hat y, y)}{\\partial \\hat y} \\frac{\\partial \\hat y}{\\partial z} = \\frac{1}{n} \\big(\\hat y - y \\big)  \\\\[12pt]\n",
        "\\frac{\\partial J(\\hat y, y)}{\\partial W} &= \\frac{\\partial J(\\hat y, y)}{\\partial \\hat y} \\frac{\\partial \\hat y}{\\partial z} \\frac{\\partial z}{\\partial W} = \\frac{1}{n}  (\\hat y - y) \\cdot X^\\intercal \\\\[12pt]\n",
        "\\frac{\\partial J(\\hat y, y)}{\\partial b} &=  \\frac{\\partial J(\\hat y, y)}{\\partial \\hat y} \\frac{\\partial \\hat y}{\\partial z} \\frac{\\partial z}{\\partial b} = \\frac{1}{n} \\sum_{i=1}^n \\big(\\hat y^{(i)} - y^{(i)} \\big)\n",
        "\\end{aligned}}$$\n",
        "\n",
        "**Крок 5:** Оновити ваги та зсув:\n",
        "\n",
        "$$\\boxed{\\begin{aligned}\n",
        "W &= W - \\alpha \\frac{\\partial J(\\hat y, y)}{\\partial W} \\\\[12pt]\n",
        "b &= b - \\alpha \\frac{\\partial J(\\hat y, y)}{\\partial b}\n",
        "\\end{aligned}}$$\n",
        "\n",
        "де $\\alpha$ &mdash; швидкість навчання (крок навчання)."
      ]
    },
    {
      "cell_type": "markdown",
      "metadata": {
        "id": "WU31wxOL_iBb"
      },
      "source": [
        "# Імпортупвання бібліотек"
      ]
    },
    {
      "cell_type": "code",
      "metadata": {
        "id": "19xicNjUYyKR"
      },
      "source": [
        "import numpy as np # numerical python library for calculus\n",
        "from matplotlib import pyplot as plt # library for creating static, animated, and interactive visualizations in Python\n",
        "from sklearn import datasets # python library to implement machine learning models and statistical modelling\n",
        "from sklearn.model_selection import train_test_split # for splitting the dataset\n",
        "\n",
        "np.random.seed(1) # makes the random numbers predictable"
      ],
      "execution_count": 1,
      "outputs": []
    },
    {
      "cell_type": "markdown",
      "source": [
        "# Завантажєння датасету [breast_cancer](https://scikit-learn.org/0.21/modules/generated/sklearn.datasets.load_breast_cancer.html) та перегляд повного опису набору"
      ],
      "metadata": {
        "id": "ndsLjCZEAyeO"
      }
    },
    {
      "cell_type": "code",
      "source": [
        "df = datasets.load_breast_cancer()\n",
        "print(df.DESCR)"
      ],
      "metadata": {
        "colab": {
          "base_uri": "https://localhost:8080/"
        },
        "id": "FQBdRiq--0Pe",
        "outputId": "9355beb8-71bb-401c-fa6f-bf6807d8a33e"
      },
      "execution_count": 2,
      "outputs": [
        {
          "output_type": "stream",
          "name": "stdout",
          "text": [
            ".. _breast_cancer_dataset:\n",
            "\n",
            "Breast cancer wisconsin (diagnostic) dataset\n",
            "--------------------------------------------\n",
            "\n",
            "**Data Set Characteristics:**\n",
            "\n",
            ":Number of Instances: 569\n",
            "\n",
            ":Number of Attributes: 30 numeric, predictive attributes and the class\n",
            "\n",
            ":Attribute Information:\n",
            "    - radius (mean of distances from center to points on the perimeter)\n",
            "    - texture (standard deviation of gray-scale values)\n",
            "    - perimeter\n",
            "    - area\n",
            "    - smoothness (local variation in radius lengths)\n",
            "    - compactness (perimeter^2 / area - 1.0)\n",
            "    - concavity (severity of concave portions of the contour)\n",
            "    - concave points (number of concave portions of the contour)\n",
            "    - symmetry\n",
            "    - fractal dimension (\"coastline approximation\" - 1)\n",
            "\n",
            "    The mean, standard error, and \"worst\" or largest (mean of the three\n",
            "    worst/largest values) of these features were computed for each image,\n",
            "    resulting in 30 features.  For instance, field 0 is Mean Radius, field\n",
            "    10 is Radius SE, field 20 is Worst Radius.\n",
            "\n",
            "    - class:\n",
            "            - WDBC-Malignant\n",
            "            - WDBC-Benign\n",
            "\n",
            ":Summary Statistics:\n",
            "\n",
            "===================================== ====== ======\n",
            "                                        Min    Max\n",
            "===================================== ====== ======\n",
            "radius (mean):                        6.981  28.11\n",
            "texture (mean):                       9.71   39.28\n",
            "perimeter (mean):                     43.79  188.5\n",
            "area (mean):                          143.5  2501.0\n",
            "smoothness (mean):                    0.053  0.163\n",
            "compactness (mean):                   0.019  0.345\n",
            "concavity (mean):                     0.0    0.427\n",
            "concave points (mean):                0.0    0.201\n",
            "symmetry (mean):                      0.106  0.304\n",
            "fractal dimension (mean):             0.05   0.097\n",
            "radius (standard error):              0.112  2.873\n",
            "texture (standard error):             0.36   4.885\n",
            "perimeter (standard error):           0.757  21.98\n",
            "area (standard error):                6.802  542.2\n",
            "smoothness (standard error):          0.002  0.031\n",
            "compactness (standard error):         0.002  0.135\n",
            "concavity (standard error):           0.0    0.396\n",
            "concave points (standard error):      0.0    0.053\n",
            "symmetry (standard error):            0.008  0.079\n",
            "fractal dimension (standard error):   0.001  0.03\n",
            "radius (worst):                       7.93   36.04\n",
            "texture (worst):                      12.02  49.54\n",
            "perimeter (worst):                    50.41  251.2\n",
            "area (worst):                         185.2  4254.0\n",
            "smoothness (worst):                   0.071  0.223\n",
            "compactness (worst):                  0.027  1.058\n",
            "concavity (worst):                    0.0    1.252\n",
            "concave points (worst):               0.0    0.291\n",
            "symmetry (worst):                     0.156  0.664\n",
            "fractal dimension (worst):            0.055  0.208\n",
            "===================================== ====== ======\n",
            "\n",
            ":Missing Attribute Values: None\n",
            "\n",
            ":Class Distribution: 212 - Malignant, 357 - Benign\n",
            "\n",
            ":Creator:  Dr. William H. Wolberg, W. Nick Street, Olvi L. Mangasarian\n",
            "\n",
            ":Donor: Nick Street\n",
            "\n",
            ":Date: November, 1995\n",
            "\n",
            "This is a copy of UCI ML Breast Cancer Wisconsin (Diagnostic) datasets.\n",
            "https://goo.gl/U2Uwz2\n",
            "\n",
            "Features are computed from a digitized image of a fine needle\n",
            "aspirate (FNA) of a breast mass.  They describe\n",
            "characteristics of the cell nuclei present in the image.\n",
            "\n",
            "Separating plane described above was obtained using\n",
            "Multisurface Method-Tree (MSM-T) [K. P. Bennett, \"Decision Tree\n",
            "Construction Via Linear Programming.\" Proceedings of the 4th\n",
            "Midwest Artificial Intelligence and Cognitive Science Society,\n",
            "pp. 97-101, 1992], a classification method which uses linear\n",
            "programming to construct a decision tree.  Relevant features\n",
            "were selected using an exhaustive search in the space of 1-4\n",
            "features and 1-3 separating planes.\n",
            "\n",
            "The actual linear program used to obtain the separating plane\n",
            "in the 3-dimensional space is that described in:\n",
            "[K. P. Bennett and O. L. Mangasarian: \"Robust Linear\n",
            "Programming Discrimination of Two Linearly Inseparable Sets\",\n",
            "Optimization Methods and Software 1, 1992, 23-34].\n",
            "\n",
            "This database is also available through the UW CS ftp server:\n",
            "\n",
            "ftp ftp.cs.wisc.edu\n",
            "cd math-prog/cpo-dataset/machine-learn/WDBC/\n",
            "\n",
            ".. dropdown:: References\n",
            "\n",
            "  - W.N. Street, W.H. Wolberg and O.L. Mangasarian. Nuclear feature extraction\n",
            "    for breast tumor diagnosis. IS&T/SPIE 1993 International Symposium on\n",
            "    Electronic Imaging: Science and Technology, volume 1905, pages 861-870,\n",
            "    San Jose, CA, 1993.\n",
            "  - O.L. Mangasarian, W.N. Street and W.H. Wolberg. Breast cancer diagnosis and\n",
            "    prognosis via linear programming. Operations Research, 43(4), pages 570-577,\n",
            "    July-August 1995.\n",
            "  - W.H. Wolberg, W.N. Street, and O.L. Mangasarian. Machine learning techniques\n",
            "    to diagnose breast cancer from fine-needle aspirates. Cancer Letters 77 (1994)\n",
            "    163-171.\n",
            "\n"
          ]
        }
      ]
    },
    {
      "cell_type": "markdown",
      "source": [
        "# Ознаки"
      ],
      "metadata": {
        "id": "Q1ybT_YvBIa-"
      }
    },
    {
      "cell_type": "code",
      "source": [
        "list(df.feature_names)"
      ],
      "metadata": {
        "colab": {
          "base_uri": "https://localhost:8080/"
        },
        "id": "s6GmKVuH_7_q",
        "outputId": "3a97707a-a76e-4416-9f40-dcbbd38c64e1"
      },
      "execution_count": 3,
      "outputs": [
        {
          "output_type": "execute_result",
          "data": {
            "text/plain": [
              "['mean radius',\n",
              " 'mean texture',\n",
              " 'mean perimeter',\n",
              " 'mean area',\n",
              " 'mean smoothness',\n",
              " 'mean compactness',\n",
              " 'mean concavity',\n",
              " 'mean concave points',\n",
              " 'mean symmetry',\n",
              " 'mean fractal dimension',\n",
              " 'radius error',\n",
              " 'texture error',\n",
              " 'perimeter error',\n",
              " 'area error',\n",
              " 'smoothness error',\n",
              " 'compactness error',\n",
              " 'concavity error',\n",
              " 'concave points error',\n",
              " 'symmetry error',\n",
              " 'fractal dimension error',\n",
              " 'worst radius',\n",
              " 'worst texture',\n",
              " 'worst perimeter',\n",
              " 'worst area',\n",
              " 'worst smoothness',\n",
              " 'worst compactness',\n",
              " 'worst concavity',\n",
              " 'worst concave points',\n",
              " 'worst symmetry',\n",
              " 'worst fractal dimension']"
            ]
          },
          "metadata": {},
          "execution_count": 3
        }
      ]
    },
    {
      "cell_type": "code",
      "source": [
        "len(df.feature_names)"
      ],
      "metadata": {
        "colab": {
          "base_uri": "https://localhost:8080/"
        },
        "id": "BxjNsnOSOGlY",
        "outputId": "d1446780-a408-4509-ec9e-d09a738c0b87"
      },
      "execution_count": 4,
      "outputs": [
        {
          "output_type": "execute_result",
          "data": {
            "text/plain": [
              "30"
            ]
          },
          "metadata": {},
          "execution_count": 4
        }
      ]
    },
    {
      "cell_type": "markdown",
      "source": [
        "# Мітки"
      ],
      "metadata": {
        "id": "FTnuRJjrBRcF"
      }
    },
    {
      "cell_type": "code",
      "source": [
        "list(df.target_names)"
      ],
      "metadata": {
        "colab": {
          "base_uri": "https://localhost:8080/"
        },
        "id": "dFrpydLk_QBI",
        "outputId": "92f17493-055b-4b5a-feac-14675080771d"
      },
      "execution_count": 5,
      "outputs": [
        {
          "output_type": "execute_result",
          "data": {
            "text/plain": [
              "['malignant', 'benign']"
            ]
          },
          "metadata": {},
          "execution_count": 5
        }
      ]
    },
    {
      "cell_type": "code",
      "source": [
        "classes = {0 : 'malignant', 1 : 'benign'}"
      ],
      "metadata": {
        "id": "EcDwAoYsAJsP"
      },
      "execution_count": 6,
      "outputs": []
    },
    {
      "cell_type": "markdown",
      "source": [
        "### Перегляд міток для кількох окремих прикладів з набору даних"
      ],
      "metadata": {
        "id": "RKyifp88BZrd"
      }
    },
    {
      "cell_type": "code",
      "source": [
        "df.target[[0, 10, 90]]"
      ],
      "metadata": {
        "colab": {
          "base_uri": "https://localhost:8080/"
        },
        "id": "MIK5xgKSAZqd",
        "outputId": "f32f8591-2223-4acd-fb4b-bc3ea0787dd4"
      },
      "execution_count": 7,
      "outputs": [
        {
          "output_type": "execute_result",
          "data": {
            "text/plain": [
              "array([0, 0, 1])"
            ]
          },
          "metadata": {},
          "execution_count": 7
        }
      ]
    },
    {
      "cell_type": "code",
      "source": [
        "[classes[i] for i in df.target[[0, 10, 90]]]"
      ],
      "metadata": {
        "colab": {
          "base_uri": "https://localhost:8080/"
        },
        "id": "BhymhteOAj6k",
        "outputId": "a51a5625-3b13-42eb-fac9-3921279d8812"
      },
      "execution_count": 8,
      "outputs": [
        {
          "output_type": "execute_result",
          "data": {
            "text/plain": [
              "['malignant', 'malignant', 'benign']"
            ]
          },
          "metadata": {},
          "execution_count": 8
        }
      ]
    },
    {
      "cell_type": "code",
      "source": [
        "X, y = df.data, df.target"
      ],
      "metadata": {
        "id": "J_MDOXiICOJe"
      },
      "execution_count": 9,
      "outputs": []
    },
    {
      "cell_type": "code",
      "source": [
        "# Split the data into a training and test set\n",
        "X_train, X_test, y_train, y_test = train_test_split(X, y, test_size=0.2, random_state=1)\n",
        "\n",
        "print(f'Shape X_train: {X_train.shape}')\n",
        "print(f'Shape y_train: {y_train.shape}')\n",
        "print(f'Shape X_test: {X_test.shape}')\n",
        "print(f'Shape y_test: {y_test.shape}')"
      ],
      "metadata": {
        "colab": {
          "base_uri": "https://localhost:8080/"
        },
        "id": "z-AiQ3kHCJ14",
        "outputId": "fb3f9d54-0e39-41c2-9303-c042e2d432c3"
      },
      "execution_count": 10,
      "outputs": [
        {
          "output_type": "stream",
          "name": "stdout",
          "text": [
            "Shape X_train: (455, 30)\n",
            "Shape y_train: (455,)\n",
            "Shape X_test: (114, 30)\n",
            "Shape y_test: (114,)\n"
          ]
        }
      ]
    },
    {
      "cell_type": "markdown",
      "source": [
        "### Для уникнення overflow encountered in exp"
      ],
      "metadata": {
        "id": "zXD9Q_vH3GHP"
      }
    },
    {
      "cell_type": "code",
      "source": [
        "# check the dtype\n",
        "print(f'Data type of X_train: {X_train.dtype}')\n",
        "print(f'Data type of X_test: {X_test.dtype}')"
      ],
      "metadata": {
        "colab": {
          "base_uri": "https://localhost:8080/"
        },
        "id": "p0rWhK90im0m",
        "outputId": "0b21200d-6b60-4d76-adde-6e07f20b789c"
      },
      "execution_count": 11,
      "outputs": [
        {
          "output_type": "stream",
          "name": "stdout",
          "text": [
            "Data type of X_train: float64\n",
            "Data type of X_test: float64\n"
          ]
        }
      ]
    },
    {
      "cell_type": "code",
      "source": [
        "# change the dtype to 'float128'\n",
        "X_train = X_train.astype('float128')\n",
        "X_test = X_test.astype('float128')"
      ],
      "metadata": {
        "id": "Ux8UgzyuiyK7"
      },
      "execution_count": 12,
      "outputs": []
    },
    {
      "cell_type": "code",
      "source": [
        "print(f'Data type of X_train: {X_train.dtype}')\n",
        "print(f'Data type of X_test: {X_test.dtype}')"
      ],
      "metadata": {
        "colab": {
          "base_uri": "https://localhost:8080/"
        },
        "id": "vrLxr_IqjAr-",
        "outputId": "35d1cc1d-c69b-4f27-cd16-8c9f65d703ca"
      },
      "execution_count": 13,
      "outputs": [
        {
          "output_type": "stream",
          "name": "stdout",
          "text": [
            "Data type of X_train: float128\n",
            "Data type of X_test: float128\n"
          ]
        }
      ]
    },
    {
      "cell_type": "code",
      "source": [
        "n_samples, n_features = X_train.shape"
      ],
      "metadata": {
        "id": "jefqppjEClE3"
      },
      "execution_count": 14,
      "outputs": []
    },
    {
      "cell_type": "markdown",
      "metadata": {
        "id": "ZPLwu0rWaCeJ"
      },
      "source": [
        "---\n",
        "# Завдання\n",
        "\n",
        "Розглянемо задачу бінарної класифікації вхідних ознак: злоякісна (1) або доброякісна (0) пухлина молочної залози."
      ]
    },
    {
      "cell_type": "markdown",
      "metadata": {
        "id": "Qpq48noEKJgY"
      },
      "source": [
        "### Крок 0: Ініціалізувати ваги та зсув"
      ]
    },
    {
      "cell_type": "code",
      "metadata": {
        "id": "bfkqaTCL27hF"
      },
      "source": [
        "# TODO\n",
        "def parameters_inititalization(m):\n",
        "  \"\"\"\n",
        "  Ця функція ініціалізує вектор-рядок випадкових дійсних значень ваг форми (1, m), отриманих з нормального розподілу та зсув (довільне дійсне значення)\n",
        "\n",
        "  Параметри:\n",
        "  m -- кількість вхідних ознак для кожного навчального прикладу\n",
        "\n",
        "  Повертає:\n",
        "  W -- вектор-рядок ваг форми (1, m)\n",
        "  b -- зсув (скаляр)\n",
        "  \"\"\"\n",
        "\n",
        "  # BEGIN_YOUR_CODE\n",
        "  return np.random.normal(-1, 1, (1, m)), 0\n",
        "  # END_YOUR_CODE"
      ],
      "execution_count": 15,
      "outputs": []
    },
    {
      "cell_type": "code",
      "metadata": {
        "id": "Cjoi0Pi0eIl9"
      },
      "source": [
        "W, b = parameters_inititalization(n_features)"
      ],
      "execution_count": 16,
      "outputs": []
    },
    {
      "cell_type": "code",
      "metadata": {
        "id": "Z_nNfaRGdLGO",
        "colab": {
          "base_uri": "https://localhost:8080/"
        },
        "outputId": "c23ccf96-2c31-4132-cbb5-ef36811cb777"
      },
      "source": [
        "W"
      ],
      "execution_count": 17,
      "outputs": [
        {
          "output_type": "execute_result",
          "data": {
            "text/plain": [
              "array([[ 0.62434536, -1.61175641, -1.52817175, -2.07296862, -0.13459237,\n",
              "        -3.3015387 ,  0.74481176, -1.7612069 , -0.6809609 , -1.24937038,\n",
              "         0.46210794, -3.06014071, -1.3224172 , -1.38405435,  0.13376944,\n",
              "        -2.09989127, -1.17242821, -1.87785842, -0.95778625, -0.41718479,\n",
              "        -2.10061918,  0.14472371, -0.09840928, -0.49750566, -0.09914405,\n",
              "        -1.68372786, -1.12289023, -1.93576943, -1.26788808, -0.46964453]])"
            ]
          },
          "metadata": {},
          "execution_count": 17
        }
      ]
    },
    {
      "cell_type": "code",
      "metadata": {
        "id": "AVUfQgU3dRoj",
        "colab": {
          "base_uri": "https://localhost:8080/"
        },
        "outputId": "79b91084-2da8-4006-9f03-0665f64a3f51"
      },
      "source": [
        "W.shape"
      ],
      "execution_count": 18,
      "outputs": [
        {
          "output_type": "execute_result",
          "data": {
            "text/plain": [
              "(1, 30)"
            ]
          },
          "metadata": {},
          "execution_count": 18
        }
      ]
    },
    {
      "cell_type": "code",
      "metadata": {
        "colab": {
          "base_uri": "https://localhost:8080/"
        },
        "id": "PGyt_i05dT_r",
        "outputId": "d316e75b-68dc-4f8b-80cd-091a12a5fc77"
      },
      "source": [
        "b"
      ],
      "execution_count": 19,
      "outputs": [
        {
          "output_type": "execute_result",
          "data": {
            "text/plain": [
              "0"
            ]
          },
          "metadata": {},
          "execution_count": 19
        }
      ]
    },
    {
      "cell_type": "markdown",
      "metadata": {
        "id": "SMLPcw7gNZ1d"
      },
      "source": [
        "## Крок 1 та 2\n",
        "\n",
        "### Крок 1: Обчислити лінійну комбінацію вхідних ознак та ваг, включаючи зсув\n",
        "\n",
        "### Крок 2: Застосувати нелінійну функцію активації (сигмоїду) до отриманого значення з крок 1"
      ]
    },
    {
      "cell_type": "code",
      "source": [
        "def sigmoid(x):\n",
        "  return 1 / (1 + np.exp(-x))"
      ],
      "metadata": {
        "id": "fnyjhUXD64xZ"
      },
      "execution_count": 20,
      "outputs": []
    },
    {
      "cell_type": "code",
      "metadata": {
        "id": "sHg5Sh8bdV3J"
      },
      "source": [
        "# TODO\n",
        "def forwardPropagate(X, W, b):\n",
        "  \"\"\"\n",
        "  Ця функція обчислює лінійну комбінацію вхідних ознак та ваг, включаючи зсув і знаходить активаційне значення сигмоїди\n",
        "\n",
        "  Параметри:\n",
        "  X -- вхідна матриця форми (n_samples, n_features)\n",
        "  W -- вектор-рядок ваг моделі форми (1, n_features)\n",
        "  b -- зсув моделі (скаляр)\n",
        "\n",
        "  Повертає:\n",
        "  z -- загальна зважена сума вхідних ознак, включаючи зсув\n",
        "  y_hat -- активаційне значення сигмоїди\n",
        "  \"\"\"\n",
        "  # BEGIN_YOUR_CODE\n",
        "  if X.shape[0] != W.shape[0]:\n",
        "    X = X.T\n",
        "\n",
        "  z = np.dot(W, X) + b\n",
        "  y_hat = sigmoid(z)\n",
        "  return z, y_hat\n",
        "  # END_YOUR_CODE"
      ],
      "execution_count": 157,
      "outputs": []
    },
    {
      "cell_type": "code",
      "source": [
        "z = forwardPropagate(X_train, W, b)"
      ],
      "metadata": {
        "id": "2DVcphAP-A0Y"
      },
      "execution_count": 158,
      "outputs": []
    },
    {
      "cell_type": "code",
      "metadata": {
        "id": "94IMy1_2dfuQ"
      },
      "source": [
        "z, y_hat = forwardPropagate(X_train, W, b)"
      ],
      "execution_count": 29,
      "outputs": []
    },
    {
      "cell_type": "code",
      "metadata": {
        "id": "JF67K5RJiEux",
        "colab": {
          "base_uri": "https://localhost:8080/"
        },
        "outputId": "4d6913d7-f6c6-4024-a829-c9f647edece8"
      },
      "source": [
        "z.shape"
      ],
      "execution_count": 30,
      "outputs": [
        {
          "output_type": "execute_result",
          "data": {
            "text/plain": [
              "(1, 455)"
            ]
          },
          "metadata": {},
          "execution_count": 30
        }
      ]
    },
    {
      "cell_type": "code",
      "metadata": {
        "id": "8urwc6qKiFQQ",
        "colab": {
          "base_uri": "https://localhost:8080/"
        },
        "outputId": "8cf566f4-ae31-43e2-e708-1216ffa6ef60"
      },
      "source": [
        "y_hat.shape"
      ],
      "execution_count": 31,
      "outputs": [
        {
          "output_type": "execute_result",
          "data": {
            "text/plain": [
              "(1, 455)"
            ]
          },
          "metadata": {},
          "execution_count": 31
        }
      ]
    },
    {
      "cell_type": "markdown",
      "metadata": {
        "id": "I1L7RqCHOShJ"
      },
      "source": [
        "### Крок 3: Обчислити усереднену втрату на всьому навчальному наборі даних. Цільова функція\n",
        "\n",
        "У нашому випадку ми розглядаємо пряме та зворотне поширення для одного навчального прикладу (зображення)."
      ]
    },
    {
      "cell_type": "code",
      "metadata": {
        "id": "YM5DZaGIl-ei"
      },
      "source": [
        "# TODO\n",
        "def cost(n, y_hat, y_true):\n",
        "  \"\"\"\n",
        "  Ця функція обчислює усереднену втрату для задачі бінарної класифікації на всьому навчальному наборі даних\n",
        "\n",
        "  Параметри:\n",
        "  n -- загальна кількість навчальних прикладів\n",
        "  y_hat -- активаційне значення сигмоїди (прогноз логістичної регресії)\n",
        "  y_true -- істинний клас зображення (очікувана мітка прогнозу)\n",
        "\n",
        "  Повертає:\n",
        "  J --  усереднена втрата моделі для задачі бінарної класифікації на всьому навчальному наборі даних\n",
        "  \"\"\"\n",
        "  ep = 10E-10 # для уникнення в log(0)\n",
        "  # BEGIN_YOUR_CODE\n",
        "  return -(1 / n) * np.sum(y_true * np.log(y_hat + ep) + (1 - y_true) * np.log(1 - y_hat + ep))\n",
        "  # END_YOUR_CODE"
      ],
      "execution_count": 172,
      "outputs": []
    },
    {
      "cell_type": "code",
      "metadata": {
        "id": "GVuroIbum_4L",
        "colab": {
          "base_uri": "https://localhost:8080/"
        },
        "outputId": "0fb3dad7-fa6d-450c-8e13-f9c27b1b42b4"
      },
      "source": [
        "J = cost(n_samples, y_hat, y_train)\n",
        "J"
      ],
      "execution_count": 173,
      "outputs": [
        {
          "output_type": "execute_result",
          "data": {
            "text/plain": [
              "12.980507172219180566"
            ]
          },
          "metadata": {},
          "execution_count": 173
        }
      ]
    },
    {
      "cell_type": "markdown",
      "metadata": {
        "id": "bapG8TtdP4gK"
      },
      "source": [
        "### Крок 4: Розрахувати градієнти цільвої функції відносно ваг та зсуву"
      ]
    },
    {
      "cell_type": "code",
      "metadata": {
        "id": "9K-Vn0mpiGng"
      },
      "source": [
        "# TODO\n",
        "def backwardPropagate(n, X, y_hat, y_true):\n",
        "  \"\"\"\n",
        "  Ця функція обчислює градієнти цільвої функції відносно ваг та зсуву\n",
        "\n",
        "  Параметри:\n",
        "  n -- загальна кількість навчальних прикладів\n",
        "  X -- вхідна матриця форми (n_samples, n_features)\n",
        "  y_hat -- активаційне значення сигмоїди (прогноз логістичної регресії)\n",
        "  y_true -- істинний клас зображення (очікувана мітка прогнозу)\n",
        "\n",
        "  Повертає:\n",
        "  dW --  градієнт цільової функції відносно ваг моделі\n",
        "  db -- градієнт цільової функції відносно зсуву моделі\n",
        "  \"\"\"\n",
        "  # BEGIN_YOUR_CODE\n",
        "  first = 1 / n\n",
        "  second = y_hat - y_true\n",
        "\n",
        "  dW = first * np.dot(second, X)\n",
        "  db = first * np.sum(second)\n",
        "  return dW, db\n",
        "  # END_YOUR_CODE"
      ],
      "execution_count": 174,
      "outputs": []
    },
    {
      "cell_type": "code",
      "metadata": {
        "id": "VirkpmD0o-1Q"
      },
      "source": [
        "dW, db = backwardPropagate(n_samples, X_train, y_hat, y_train)"
      ],
      "execution_count": 175,
      "outputs": []
    },
    {
      "cell_type": "code",
      "metadata": {
        "id": "aLjgo0GdpMx0",
        "colab": {
          "base_uri": "https://localhost:8080/"
        },
        "outputId": "1b098f70-04ff-45dd-a105-ac0553ef0466"
      },
      "source": [
        "dW.shape"
      ],
      "execution_count": 176,
      "outputs": [
        {
          "output_type": "execute_result",
          "data": {
            "text/plain": [
              "(1, 30)"
            ]
          },
          "metadata": {},
          "execution_count": 176
        }
      ]
    },
    {
      "cell_type": "code",
      "metadata": {
        "id": "8ZBTCeXdqFJA",
        "colab": {
          "base_uri": "https://localhost:8080/"
        },
        "outputId": "37a2f714-cb80-42fb-bec5-7f1dbed1dbb0"
      },
      "source": [
        "db"
      ],
      "execution_count": 177,
      "outputs": [
        {
          "output_type": "execute_result",
          "data": {
            "text/plain": [
              "-0.6263736263736263731"
            ]
          },
          "metadata": {},
          "execution_count": 177
        }
      ]
    },
    {
      "cell_type": "code",
      "metadata": {
        "id": "DAkVSaLesD_8",
        "colab": {
          "base_uri": "https://localhost:8080/"
        },
        "outputId": "dc10ef9c-7f26-433c-eea3-17a15fef85aa"
      },
      "source": [
        "db.shape"
      ],
      "execution_count": 178,
      "outputs": [
        {
          "output_type": "execute_result",
          "data": {
            "text/plain": [
              "()"
            ]
          },
          "metadata": {},
          "execution_count": 178
        }
      ]
    },
    {
      "cell_type": "markdown",
      "metadata": {
        "id": "7wzrFBQPSfL5"
      },
      "source": [
        "### Крок 5: Оновити ваги та зсув"
      ]
    },
    {
      "cell_type": "code",
      "metadata": {
        "id": "SwacLBbFsKHZ"
      },
      "source": [
        "# TODO\n",
        "def update(lr, dW, db, W, b):\n",
        "  \"\"\"\n",
        "  Ця функція оновлює навчальні параметри моделі (ваги та зсув ) у напрямку мінімізації цільової функції\n",
        "\n",
        "  Параметри:\n",
        "  lr -- швидкість  навчання (крок навчання)\n",
        "  dW --  градієнт цільової функції відносно ваг моделі\n",
        "  db -- градієнт цільової функції відносно зсуву моделі\n",
        "  W -- вектор-рядок ваг моделі форми (1, n_features)\n",
        "  b -- зсув моделі (скаляр)\n",
        "\n",
        "  Повертає:\n",
        "  W -- оновлений вектор-рядок ваг моделі форми (1, n_features)\n",
        "  b -- оновлений зсув моделі (скаляр)\n",
        "  \"\"\"\n",
        "  # BEGIN_YOUR_CODE\n",
        "  W = W - lr * dW\n",
        "  b = b - lr * db\n",
        "  return W, b\n",
        "  # END_YOUR_CODE"
      ],
      "execution_count": 209,
      "outputs": []
    },
    {
      "cell_type": "code",
      "metadata": {
        "id": "7f-dOng9tKRy"
      },
      "source": [
        "W, b = update(0.0001, dW, db, W, b)"
      ],
      "execution_count": 210,
      "outputs": []
    },
    {
      "cell_type": "code",
      "metadata": {
        "id": "X681Y8JatVAi",
        "colab": {
          "base_uri": "https://localhost:8080/"
        },
        "outputId": "bd932935-b44c-49c4-e314-aaf0e49a64aa"
      },
      "source": [
        "W"
      ],
      "execution_count": 211,
      "outputs": [
        {
          "output_type": "execute_result",
          "data": {
            "text/plain": [
              "array([[ 2.63042172,  0.3972073 ,  0.51089054,  0.15824456,  1.86545407,\n",
              "        -1.30149844,  2.74483453,  0.23880603,  1.31912644,  0.75066116,\n",
              "         2.4622518 , -1.05952345,  0.67858893,  0.62660988,  2.13377304,\n",
              "        -0.09988048,  0.82758454,  0.12214653,  1.0422241 ,  1.58281706,\n",
              "        -0.09392588,  2.15646687,  1.94510715,  1.78159676,  1.90091849,\n",
              "         0.31636355,  0.877191  ,  0.06426767,  0.73224676,  1.53039522]],\n",
              "      dtype=float128)"
            ]
          },
          "metadata": {},
          "execution_count": 211
        }
      ]
    },
    {
      "cell_type": "code",
      "metadata": {
        "id": "oWrWtkXhtWl4",
        "colab": {
          "base_uri": "https://localhost:8080/"
        },
        "outputId": "2c9ca898-7bcb-4420-c752-cb384b729215"
      },
      "source": [
        "b"
      ],
      "execution_count": 212,
      "outputs": [
        {
          "output_type": "execute_result",
          "data": {
            "text/plain": [
              "0.0005010989010989011225"
            ]
          },
          "metadata": {},
          "execution_count": 212
        }
      ]
    },
    {
      "cell_type": "markdown",
      "source": [
        "# Клас логістичної регресії"
      ],
      "metadata": {
        "id": "5hH7Eu46AXen"
      }
    },
    {
      "cell_type": "code",
      "source": [
        "class LogisticRegression:\n",
        "\n",
        "  def __init__(self, lr=0.001, n_iters=1000):\n",
        "      self.lr = lr\n",
        "      self.n_iters = n_iters\n",
        "\n",
        "\n",
        "  def fit(self, X, y):\n",
        "    \"\"\"\n",
        "    Trains a logistic regression model using gradient descent\n",
        "    \"\"\"\n",
        "    # Step 0: Initialize the parameters\n",
        "    n_samples, n_features = X.shape\n",
        "    self.W, self.b = parameters_inititalization(n_features)\n",
        "\n",
        "    costs = []\n",
        "\n",
        "    for i in range(self.n_iters):\n",
        "      # Step 1: Compute a linear combination of the input features and weights\n",
        "      z, y_hat = forwardPropagate(X, self.W, self.b)\n",
        "      # Step 2: Compute cost over training set\n",
        "      J = cost(n_samples, y_hat, y)\n",
        "      costs.append(J)\n",
        "      if i % 20 == 0:\n",
        "        print(f\"Усереднена втрата моделі на ітерації {i}: {J}\")\n",
        "      # Step 3: Compute the gradients\n",
        "      dW, db = backwardPropagate(n_samples, X, y_hat, y)\n",
        "      # Step 4: Update the parameters\n",
        "      self.W, self.b = update(self.lr, dW, db, self.W, self.b)\n",
        "    return self.W, self.b, costs\n",
        "\n",
        "  def predict(self, X):\n",
        "    z, y_hat = forwardPropagate(X, self.W, self.b)\n",
        "    class_pred = [0 if y < 0.5 else 1 for y in y_hat[0][:]]\n",
        "    return class_pred\n",
        "\n",
        "  def evaluate(self, X, y):\n",
        "    n_samples, n_features = X.shape\n",
        "    z, y_hat = forwardPropagate(X, self.W, self.b)\n",
        "    J = cost(n_samples, y_hat, y)\n",
        "    return J"
      ],
      "metadata": {
        "id": "xE_WsGnUGQTQ"
      },
      "execution_count": 213,
      "outputs": []
    },
    {
      "cell_type": "markdown",
      "source": [
        "# Навчання моделі"
      ],
      "metadata": {
        "id": "uJ_5dqkMAt7K"
      }
    },
    {
      "cell_type": "code",
      "source": [
        "lr = 0.001\n",
        "n_iters = 1000\n",
        "\n",
        "model = LogisticRegression(lr, n_iters)\n",
        "w_trained, b_trained, costs = model.fit(X_train, y_train)\n",
        "\n",
        "fig = plt.figure(figsize=(8,6))\n",
        "plt.plot(np.arange(n_iters), costs)\n",
        "plt.title(\"Зміна втрат моделі у ході навчання\")\n",
        "plt.xlabel(\"Кількість ітерацій\")\n",
        "plt.ylabel(\"Втрати\")\n",
        "plt.show()"
      ],
      "metadata": {
        "colab": {
          "base_uri": "https://localhost:8080/",
          "height": 1000
        },
        "id": "q5xvlvHRQjrC",
        "outputId": "173498a4-9ba0-4909-921a-33a6fa0dd71c"
      },
      "execution_count": 214,
      "outputs": [
        {
          "output_type": "stream",
          "name": "stdout",
          "text": [
            "Усереднена втрата моделі на ітерації 0: 12.98050717221918\n",
            "Усереднена втрата моделі на ітерації 20: 9.443790780827618\n",
            "Усереднена втрата моделі на ітерації 40: 1.7731564623826246\n",
            "Усереднена втрата моделі на ітерації 60: 5.557842740100425\n",
            "Усереднена втрата моделі на ітерації 80: 5.671225446716109\n",
            "Усереднена втрата моделі на ітерації 100: 5.7128536516656645\n",
            "Усереднена втрата моделі на ітерації 120: 5.532888722907019\n",
            "Усереднена втрата моделі на ітерації 140: 5.042258347388081\n",
            "Усереднена втрата моделі на ітерації 160: 1.884409667092759\n",
            "Усереднена втрата моделі на ітерації 180: 1.8172335402235689\n",
            "Усереднена втрата моделі на ітерації 200: 1.799051783633936\n",
            "Усереднена втрата моделі на ітерації 220: 1.7772043911530313\n",
            "Усереднена втрата моделі на ітерації 240: 1.7545112878514246\n",
            "Усереднена втрата моделі на ітерації 260: 1.7376369053803444\n",
            "Усереднена втрата моделі на ітерації 280: 1.7322060996399427\n",
            "Усереднена втрата моделі на ітерації 300: 1.7297854712042942\n",
            "Усереднена втрата моделі на ітерації 320: 1.721921878212679\n",
            "Усереднена втрата моделі на ітерації 340: 1.721561344868826\n",
            "Усереднена втрата моделі на ітерації 360: 6.275749757579321\n",
            "Усереднена втрата моделі на ітерації 380: 5.080986327224624\n",
            "Усереднена втрата моделі на ітерації 400: 1.7386595246401735\n",
            "Усереднена втрата моделі на ітерації 420: 1.7328058482583548\n",
            "Усереднена втрата моделі на ітерації 440: 1.733688980667503\n",
            "Усереднена втрата моделі на ітерації 460: 1.726448474773999\n",
            "Усереднена втрата моделі на ітерації 480: 1.716472149356497\n",
            "Усереднена втрата моделі на ітерації 500: 1.7113389010390336\n",
            "Усереднена втрата моделі на ітерації 520: 1.678138904686892\n",
            "Усереднена втрата моделі на ітерації 540: 1.6453655634295765\n",
            "Усереднена втрата моделі на ітерації 560: 1.62515562702544\n",
            "Усереднена втрата моделі на ітерації 580: 1.6211660524560567\n",
            "Усереднена втрата моделі на ітерації 600: 1.6193596214503898\n",
            "Усереднена втрата моделі на ітерації 620: 1.621393180670694\n",
            "Усереднена втрата моделі на ітерації 640: 1.6249126660743465\n",
            "Усереднена втрата моделі на ітерації 660: 1.6297034639310883\n",
            "Усереднена втрата моделі на ітерації 680: 1.6933772640528064\n",
            "Усереднена втрата моделі на ітерації 700: 1.6949176231826666\n",
            "Усереднена втрата моделі на ітерації 720: 1.6957073240918463\n",
            "Усереднена втрата моделі на ітерації 740: 1.6954451456776627\n",
            "Усереднена втрата моделі на ітерації 760: 1.6949157566661066\n",
            "Усереднена втрата моделі на ітерації 780: 1.6978726808734284\n",
            "Усереднена втрата моделі на ітерації 800: 3.839588685885663\n",
            "Усереднена втрата моделі на ітерації 820: 5.205491609826103\n",
            "Усереднена втрата моделі на ітерації 840: 4.564897928170844\n",
            "Усереднена втрата моделі на ітерації 860: 1.6560604834749617\n",
            "Усереднена втрата моделі на ітерації 880: 1.6533855607650574\n",
            "Усереднена втрата моделі на ітерації 900: 1.651206459074917\n",
            "Усереднена втрата моделі на ітерації 920: 1.6474594884253755\n",
            "Усереднена втрата моделі на ітерації 940: 1.6379171035839086\n",
            "Усереднена втрата моделі на ітерації 960: 1.627622187037293\n",
            "Усереднена втрата моделі на ітерації 980: 1.6233459916931468\n"
          ]
        },
        {
          "output_type": "display_data",
          "data": {
            "text/plain": [
              "<Figure size 800x600 with 1 Axes>"
            ],
            "image/png": "[encoded data removed]"
          },
          "metadata": {}
        }
      ]
    },
    {
      "cell_type": "markdown",
      "source": [
        "# Тестування моделі"
      ],
      "metadata": {
        "id": "MdX1hVglAHNx"
      }
    },
    {
      "cell_type": "code",
      "source": [
        "y_pred = model.predict(X_test)"
      ],
      "metadata": {
        "id": "0HEuWD7dRfuo"
      },
      "execution_count": 215,
      "outputs": []
    },
    {
      "cell_type": "code",
      "source": [
        "y_pred = np.array(y_pred)"
      ],
      "metadata": {
        "id": "Tsr2zGJfmon1"
      },
      "execution_count": 216,
      "outputs": []
    },
    {
      "cell_type": "code",
      "source": [
        "y_pred.shape"
      ],
      "metadata": {
        "colab": {
          "base_uri": "https://localhost:8080/"
        },
        "id": "Wy7Ay7tIoac2",
        "outputId": "d726649d-7e6e-4392-b15d-3d759e48fd8f"
      },
      "execution_count": 217,
      "outputs": [
        {
          "output_type": "execute_result",
          "data": {
            "text/plain": [
              "(114,)"
            ]
          },
          "metadata": {},
          "execution_count": 217
        }
      ]
    },
    {
      "cell_type": "code",
      "source": [
        "def accuracy(y_pred, y_true):\n",
        "  return np.sum(y_pred == y_true) / y_true.size"
      ],
      "metadata": {
        "id": "QEgBhOT5m1s7"
      },
      "execution_count": 218,
      "outputs": []
    },
    {
      "cell_type": "code",
      "source": [
        "acc = accuracy(y_pred, y_test)\n",
        "acc"
      ],
      "metadata": {
        "colab": {
          "base_uri": "https://localhost:8080/"
        },
        "id": "97T0yJfdmrVI",
        "outputId": "f2cf6381-ddd2-47a0-c03b-fe33a5f5e839"
      },
      "execution_count": 219,
      "outputs": [
        {
          "output_type": "execute_result",
          "data": {
            "text/plain": [
              "0.9210526315789473"
            ]
          },
          "metadata": {},
          "execution_count": 219
        }
      ]
    },
    {
      "cell_type": "code",
      "source": [
        "y_pred"
      ],
      "metadata": {
        "colab": {
          "base_uri": "https://localhost:8080/"
        },
        "id": "NIAysnNFdiy8",
        "outputId": "cc43f78f-7aab-4279-9826-e45c43f3f8e8"
      },
      "execution_count": 220,
      "outputs": [
        {
          "output_type": "execute_result",
          "data": {
            "text/plain": [
              "array([1, 0, 1, 0, 0, 0, 0, 0, 1, 1, 1, 1, 0, 1, 1, 1, 1, 1, 1, 0, 1, 1,\n",
              "       0, 1, 0, 1, 1, 0, 0, 0, 0, 1, 0, 0, 1, 1, 0, 1, 1, 1, 1, 1, 1, 1,\n",
              "       1, 0, 1, 1, 1, 0, 0, 0, 1, 1, 1, 1, 1, 1, 1, 1, 1, 0, 1, 0, 1, 1,\n",
              "       1, 0, 1, 1, 1, 1, 0, 0, 1, 0, 1, 1, 1, 0, 1, 0, 1, 0, 1, 1, 1, 1,\n",
              "       0, 1, 1, 0, 1, 1, 0, 0, 1, 1, 1, 1, 1, 1, 1, 0, 1, 1, 1, 1, 0, 0,\n",
              "       1, 1, 1, 1])"
            ]
          },
          "metadata": {},
          "execution_count": 220
        }
      ]
    },
    {
      "cell_type": "code",
      "source": [
        "y_test"
      ],
      "metadata": {
        "colab": {
          "base_uri": "https://localhost:8080/"
        },
        "id": "6wX3G-fPdltN",
        "outputId": "947bdce9-226f-41c6-bda0-c0ca6dc161ae"
      },
      "execution_count": 221,
      "outputs": [
        {
          "output_type": "execute_result",
          "data": {
            "text/plain": [
              "array([1, 0, 1, 0, 0, 0, 0, 0, 1, 1, 1, 0, 0, 1, 1, 1, 1, 1, 1, 0, 1, 1,\n",
              "       0, 1, 0, 1, 1, 0, 0, 0, 0, 1, 0, 0, 1, 1, 0, 1, 0, 1, 1, 1, 1, 1,\n",
              "       1, 0, 1, 1, 1, 0, 0, 0, 1, 1, 1, 1, 1, 0, 1, 1, 1, 0, 1, 1, 1, 1,\n",
              "       1, 0, 1, 1, 1, 1, 0, 0, 1, 0, 0, 0, 1, 0, 1, 0, 1, 0, 1, 1, 0, 1,\n",
              "       0, 1, 1, 0, 1, 1, 0, 0, 1, 1, 1, 1, 1, 1, 1, 1, 1, 1, 1, 1, 0, 0,\n",
              "       0, 1, 1, 1])"
            ]
          },
          "metadata": {},
          "execution_count": 221
        }
      ]
    },
    {
      "cell_type": "code",
      "source": [
        "cost_test = model.evaluate(X_test, y_test)\n",
        "print(f\"Усереднена втрата моделі на тестовій вибірці {cost_test}\")"
      ],
      "metadata": {
        "colab": {
          "base_uri": "https://localhost:8080/"
        },
        "id": "Uok8QDc6nfG5",
        "outputId": "1f70636e-9662-4fea-b0a2-9bf981b76b06"
      },
      "execution_count": 222,
      "outputs": [
        {
          "output_type": "stream",
          "name": "stdout",
          "text": [
            "Усереднена втрата моделі на тестовій вибірці 1.6167039502939806\n"
          ]
        }
      ]
    },
    {
      "cell_type": "markdown",
      "source": [
        "\n",
        "\n",
        "Завдання завершено.\n"
      ],
      "metadata": {
        "id": "-0b9ZuyEAASE"
      }
    },
    {
      "cell_type": "code",
      "source": [],
      "metadata": {
        "id": "Q7mPw3AxRECN"
      },
      "execution_count": 222,
      "outputs": []
    }
  ]
}