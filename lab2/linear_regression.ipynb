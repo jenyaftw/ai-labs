{
 "cells": [
  {
   "cell_type": "markdown",
   "metadata": {
    "id": "mxImKw1UhQl7"
   },
   "source": [
    "<a href=\"https://colab.research.google.com/github/YKochura/ai-lab/blob/main/linear-regression/linear_regression.ipynb\" target=\"_parent\"><img src=\"https://colab.research.google.com/assets/colab-badge.svg\" alt=\"Open In Colab\"/></a>"
   ]
  },
  {
   "cell_type": "markdown",
   "metadata": {
    "id": "q2XBnP5_Z0pD"
   },
   "source": [
    "**Лінійна регресія** &mdash; статистичний регресійний метод, який застосовують для моделювання взаємозв'язку між скалярною залежною змінною $\\hat{y}$ та однією або кількома незалежними змінними $\\boldsymbol X$.\n",
    "\n",
    "Наприклад, ми можемо за допомогою лінійної регресії передбачати значення неперервної залежної змінної: температуру повітря, ціну акацій, тощо, використовуючи додаткову інформацію, яка характеризує задачу і представлена  в незалежній змінній $\\boldsymbol X$. Ця додаткова інформація представляє собою набір вхідних ознак за якими буде здійснюватись моделювання.\n"
   ]
  },
  {
   "cell_type": "markdown",
   "metadata": {
    "id": "b_Lh31rnBI5b",
    "tags": [
     "graph"
    ]
   },
   "source": [
    "# Модель лінійної регресії\n",
    "\n",
    "![](https://docs.google.com/uc?export=download&id=1FAY4ZeGCJ1n14d14LtivoYDsz-LhgUpH)\n",
    "\n",
    "Метод лінійної регресії полягає у знаходженні лінійної комбінації вхідних ознак (зважена сума) з урахуванням зміщення.\n",
    "\n",
    "$$\\hat y = z = \\sum_{i=1}^m w_i x_i  + b$$\n",
    "\n",
    "\n"
   ]
  },
  {
   "cell_type": "markdown",
   "metadata": {
    "id": "sfQwoDlx-YHi"
   },
   "source": [
    "Для вирішення задачі\n",
    "\n",
    "**Дано:**\n",
    "\n",
    "- Навчальний набір: $\\{(\\boldsymbol{X}^{(1)}, y^{(1)}), (\\boldsymbol{X}^{(2)}, y^{(2)}),..., (\\boldsymbol{X}^{(n)}, y^{(n)})\\}$\n",
    "\n",
    "  - де $\\boldsymbol{X}^{(i)}$ &mdash;  $i$-й навчальний приклад. Є $m$-вимірним вектором-стовпцем $\\boldsymbol{X}^{(i)} = (x^{(i)}_1, x^{(i)}_2, ..., x^{(i)}_m)$\n",
    "  - $n$ &mdash; загальна кількість навчальних прикладів\n",
    "  - $y^{(i)}$ &mdash; дійсне цільове значення $i$-го навчального прикладу , $y^{(i)} \\in \\mathbb{R}$\n",
    "\n",
    "Модель лінійної регресії:\n",
    "\n",
    "- має вектор-рядок дійсних значень ваг $\\boldsymbol{W} = \\begin{bmatrix}\n",
    "w_1 & w_2 & \\cdots & w_m\n",
    "\\end{bmatrix}$\n",
    "- має дійсне значення зміщення $b$\n"
   ]
  },
  {
   "cell_type": "markdown",
   "metadata": {
    "id": "5wtEFeieFmwI"
   },
   "source": [
    "# Навчання\n",
    "\n",
    "Ми можемо навчити модель, використовуючи градієнтний спуск. Фактично, **градієнтний спуск** або будь-який інший алгоритм оптимізації дозволяє знайти глобальний мінімум цільової функції, якщо підбрано оптимальну швидкість навчання та виконано достатню кількість ітерацій навчання.\n",
    "\n",
    "Навчання лінійної регресії має різні етапи. На початку (крок 0) ініціалізуються параметри моделі. Інші кроки повторюються протягом певної кількості епох (навчальних ітерацій).\n",
    "\n",
    "**Крок 0:** Ініціалізувати ваги та зсув (наприклад, випадковими значеннями з нормального розподілу)\n",
    "\n",
    "**Крок 1:** Обчислити лінійну комбінацію вхідних ознак та ваг і додати зсув.  Це можна зробити за один крок для всіх навчальних прикладів, використовуючи [векторизацію (vectorization)](https://www.geeksforgeeks.org/vectorization-in-python/) та  [трансляцію (broadcasting)](https://www.geeksforgeeks.org/python-broadcasting-with-numpy-arrays/)\n",
    "\n",
    "$$\\hat y =  z = W \\cdot X + b$$\n",
    "\n",
    "де $\\cdot$ скалярний добуток (поелементний добуток), $W$ &mdash;  вектор-рядок ваг з формою $(1, m)$, $X$ &mdash; матриця форми $(m, n)$, $\\hat y$ &mdash; прогноз моделі.\n",
    "\n",
    "\n",
    "**Крок 2:** Обчислити усереднену втрату на всьому навчальному наборі даних. Функцію, яка визначає усереднені втрати на всьому навчальному наборі даних, часто називають цільовою функцією або імпіричним ризиком. Основна задача оптимізаційного алгоритму &mdash;  мінімізувати у процесі навчання цільову функцію на стільки, на скільки це можливо, не втрачаючи при цьому здатності моделі узагальнювати на нових даних. Для лінійної регресії будемо розраховувати середнє квадратичне відхилення:\n",
    "\n",
    "$$\\mathcal{J}(\\hat y,y)  = \\frac{1}{n} \\sum_{i=1}^n \\Big(\\hat{y}^{(i)} -  y^{(i)} \\Big)^2$$\n",
    "\n",
    "**Крок 3:** Розрахувати градієнти цільвої функції відносно ваг та зсуву:\n",
    "\n",
    "$$\\boxed{\\begin{aligned}\n",
    "\\frac{\\partial \\mathcal{J}(\\hat y, y)}{\\partial \\hat y} &= \\frac{2}{n} \\sum_{i=1}^n \\Big(\\hat{y}^{(i)} -  y^{(i)} \\Big)   \\\\[12pt]\n",
    "\\frac{\\partial \\mathcal{J}(\\hat y, y)}{\\partial W } = \\frac{\\partial \\mathcal{J}(\\hat y, y)}{\\partial \\hat y} \\frac{\\partial \\hat y}{\\partial W }  &= \\frac{2}{n} \\sum_{i=1}^n \\Big(\\hat{y}^{(i)} -  y^{(i)} \\Big) x^{(i)}   \\\\[12pt]\n",
    "\\frac{\\partial \\mathcal{J}(\\hat y, y)}{\\partial b} =  \\frac{\\partial \\mathcal{J}(\\hat y, y)}{\\partial \\hat y} \\frac{\\partial \\hat y}{\\partial b }&=  \\frac{2}{n} \\sum_{i=1}^n \\Big(\\hat{y}^{(i)} -  y^{(i)} \\Big)\n",
    "\\end{aligned}}$$\n",
    "\n",
    "**Крок 4:** Оновити ваги та зсув моделі:\n",
    "\n",
    "$$\\boxed{\\begin{aligned}\n",
    "W &= W - \\alpha \\frac{\\partial \\mathcal{J}(\\hat y, y)}{\\partial W} \\\\[12pt]\n",
    "b &= b - \\alpha \\frac{\\partial \\mathcal{J}(\\hat y, y)}{\\partial b}\n",
    "\\end{aligned}}$$\n",
    "\n",
    "де $\\alpha$ &mdash; швидкість навчання (крок навчання)."
   ]
  },
  {
   "cell_type": "markdown",
   "metadata": {
    "id": "WU31wxOL_iBb"
   },
   "source": [
    "# Імпортупвання бібліотек"
   ]
  },
  {
   "cell_type": "code",
   "execution_count": 10,
   "metadata": {
    "id": "19xicNjUYyKR"
   },
   "outputs": [
    {
     "ename": "AttributeError",
     "evalue": "module 'matplotlib' has no attribute 'rcParams'",
     "output_type": "error",
     "traceback": [
      "\u001b[0;31m---------------------------------------------------------------------------\u001b[0m",
      "\u001b[0;31mAttributeError\u001b[0m                            Traceback (most recent call last)",
      "Cell \u001b[0;32mIn[10], line 2\u001b[0m\n\u001b[1;32m      1\u001b[0m \u001b[38;5;28;01mimport\u001b[39;00m \u001b[38;5;21;01mnumpy\u001b[39;00m \u001b[38;5;28;01mas\u001b[39;00m \u001b[38;5;21;01mnp\u001b[39;00m\n\u001b[0;32m----> 2\u001b[0m \u001b[38;5;28;01mimport\u001b[39;00m \u001b[38;5;21;01mmatplotlib\u001b[39;00m\u001b[38;5;21;01m.\u001b[39;00m\u001b[38;5;21;01mpyplot\u001b[39;00m \u001b[38;5;28;01mas\u001b[39;00m \u001b[38;5;21;01mplt\u001b[39;00m\n\u001b[1;32m      3\u001b[0m \u001b[38;5;28;01mfrom\u001b[39;00m \u001b[38;5;21;01msklearn\u001b[39;00m\u001b[38;5;21;01m.\u001b[39;00m\u001b[38;5;21;01mmodel_selection\u001b[39;00m \u001b[38;5;28;01mimport\u001b[39;00m train_test_split\n\u001b[1;32m      5\u001b[0m np\u001b[38;5;241m.\u001b[39mrandom\u001b[38;5;241m.\u001b[39mseed(\u001b[38;5;241m123\u001b[39m)\n",
      "File \u001b[0;32m~/miniconda3/lib/python3.12/site-packages/matplotlib/pyplot.py:55\u001b[0m\n\u001b[1;32m     53\u001b[0m \u001b[38;5;28;01mfrom\u001b[39;00m \u001b[38;5;21;01mcycler\u001b[39;00m \u001b[38;5;28;01mimport\u001b[39;00m cycler  \u001b[38;5;66;03m# noqa: F401\u001b[39;00m\n\u001b[1;32m     54\u001b[0m \u001b[38;5;28;01mimport\u001b[39;00m \u001b[38;5;21;01mmatplotlib\u001b[39;00m\n\u001b[0;32m---> 55\u001b[0m \u001b[38;5;28;01mimport\u001b[39;00m \u001b[38;5;21;01mmatplotlib\u001b[39;00m\u001b[38;5;21;01m.\u001b[39;00m\u001b[38;5;21;01mcolorbar\u001b[39;00m\n\u001b[1;32m     56\u001b[0m \u001b[38;5;28;01mimport\u001b[39;00m \u001b[38;5;21;01mmatplotlib\u001b[39;00m\u001b[38;5;21;01m.\u001b[39;00m\u001b[38;5;21;01mimage\u001b[39;00m\n\u001b[1;32m     57\u001b[0m \u001b[38;5;28;01mfrom\u001b[39;00m \u001b[38;5;21;01mmatplotlib\u001b[39;00m \u001b[38;5;28;01mimport\u001b[39;00m _api\n",
      "File \u001b[0;32m~/miniconda3/lib/python3.12/site-packages/matplotlib/colorbar.py:19\u001b[0m\n\u001b[1;32m     16\u001b[0m \u001b[38;5;28;01mimport\u001b[39;00m \u001b[38;5;21;01mnumpy\u001b[39;00m \u001b[38;5;28;01mas\u001b[39;00m \u001b[38;5;21;01mnp\u001b[39;00m\n\u001b[1;32m     18\u001b[0m \u001b[38;5;28;01mimport\u001b[39;00m \u001b[38;5;21;01mmatplotlib\u001b[39;00m \u001b[38;5;28;01mas\u001b[39;00m \u001b[38;5;21;01mmpl\u001b[39;00m\n\u001b[0;32m---> 19\u001b[0m \u001b[38;5;28;01mfrom\u001b[39;00m \u001b[38;5;21;01mmatplotlib\u001b[39;00m \u001b[38;5;28;01mimport\u001b[39;00m _api, cbook, collections, cm, colors, contour, ticker\n\u001b[1;32m     20\u001b[0m \u001b[38;5;28;01mimport\u001b[39;00m \u001b[38;5;21;01mmatplotlib\u001b[39;00m\u001b[38;5;21;01m.\u001b[39;00m\u001b[38;5;21;01martist\u001b[39;00m \u001b[38;5;28;01mas\u001b[39;00m \u001b[38;5;21;01mmartist\u001b[39;00m\n\u001b[1;32m     21\u001b[0m \u001b[38;5;28;01mimport\u001b[39;00m \u001b[38;5;21;01mmatplotlib\u001b[39;00m\u001b[38;5;21;01m.\u001b[39;00m\u001b[38;5;21;01mpatches\u001b[39;00m \u001b[38;5;28;01mas\u001b[39;00m \u001b[38;5;21;01mmpatches\u001b[39;00m\n",
      "File \u001b[0;32m~/miniconda3/lib/python3.12/site-packages/matplotlib/collections.py:20\u001b[0m\n\u001b[1;32m     17\u001b[0m \u001b[38;5;28;01mimport\u001b[39;00m \u001b[38;5;21;01mnumpy\u001b[39;00m \u001b[38;5;28;01mas\u001b[39;00m \u001b[38;5;21;01mnp\u001b[39;00m\n\u001b[1;32m     19\u001b[0m \u001b[38;5;28;01mimport\u001b[39;00m \u001b[38;5;21;01mmatplotlib\u001b[39;00m \u001b[38;5;28;01mas\u001b[39;00m \u001b[38;5;21;01mmpl\u001b[39;00m\n\u001b[0;32m---> 20\u001b[0m \u001b[38;5;28;01mfrom\u001b[39;00m \u001b[38;5;21;01m.\u001b[39;00m \u001b[38;5;28;01mimport\u001b[39;00m (_api, _path, artist, cbook, cm, colors \u001b[38;5;28;01mas\u001b[39;00m mcolors, _docstring,\n\u001b[1;32m     21\u001b[0m                hatch \u001b[38;5;28;01mas\u001b[39;00m mhatch, lines \u001b[38;5;28;01mas\u001b[39;00m mlines, path \u001b[38;5;28;01mas\u001b[39;00m mpath, transforms)\n\u001b[1;32m     22\u001b[0m \u001b[38;5;28;01mfrom\u001b[39;00m \u001b[38;5;21;01m.\u001b[39;00m\u001b[38;5;21;01m_enums\u001b[39;00m \u001b[38;5;28;01mimport\u001b[39;00m JoinStyle, CapStyle\n\u001b[1;32m     25\u001b[0m \u001b[38;5;66;03m# \"color\" is excluded; it is a compound setter, and its docstring differs\u001b[39;00m\n\u001b[1;32m     26\u001b[0m \u001b[38;5;66;03m# in LineCollection.\u001b[39;00m\n",
      "File \u001b[0;32m~/miniconda3/lib/python3.12/site-packages/matplotlib/lines.py:17\u001b[0m\n\u001b[1;32m     14\u001b[0m \u001b[38;5;28;01mfrom\u001b[39;00m \u001b[38;5;21;01m.\u001b[39;00m\u001b[38;5;21;01martist\u001b[39;00m \u001b[38;5;28;01mimport\u001b[39;00m Artist, allow_rasterization\n\u001b[1;32m     15\u001b[0m \u001b[38;5;28;01mfrom\u001b[39;00m \u001b[38;5;21;01m.\u001b[39;00m\u001b[38;5;21;01mcbook\u001b[39;00m \u001b[38;5;28;01mimport\u001b[39;00m (\n\u001b[1;32m     16\u001b[0m     _to_unmasked_float_array, ls_mapper, ls_mapper_r, STEP_LOOKUP_MAP)\n\u001b[0;32m---> 17\u001b[0m \u001b[38;5;28;01mfrom\u001b[39;00m \u001b[38;5;21;01m.\u001b[39;00m\u001b[38;5;21;01mmarkers\u001b[39;00m \u001b[38;5;28;01mimport\u001b[39;00m MarkerStyle\n\u001b[1;32m     18\u001b[0m \u001b[38;5;28;01mfrom\u001b[39;00m \u001b[38;5;21;01m.\u001b[39;00m\u001b[38;5;21;01mpath\u001b[39;00m \u001b[38;5;28;01mimport\u001b[39;00m Path\n\u001b[1;32m     19\u001b[0m \u001b[38;5;28;01mfrom\u001b[39;00m \u001b[38;5;21;01m.\u001b[39;00m\u001b[38;5;21;01mtransforms\u001b[39;00m \u001b[38;5;28;01mimport\u001b[39;00m Bbox, BboxTransformTo, TransformedPath\n",
      "File \u001b[0;32m~/miniconda3/lib/python3.12/site-packages/matplotlib/markers.py:147\u001b[0m\n\u001b[1;32m    142\u001b[0m \u001b[38;5;66;03m# special-purpose marker identifiers:\u001b[39;00m\n\u001b[1;32m    143\u001b[0m (TICKLEFT, TICKRIGHT, TICKUP, TICKDOWN,\n\u001b[1;32m    144\u001b[0m  CARETLEFT, CARETRIGHT, CARETUP, CARETDOWN,\n\u001b[1;32m    145\u001b[0m  CARETLEFTBASE, CARETRIGHTBASE, CARETUPBASE, CARETDOWNBASE) \u001b[38;5;241m=\u001b[39m \u001b[38;5;28mrange\u001b[39m(\u001b[38;5;241m12\u001b[39m)\n\u001b[0;32m--> 147\u001b[0m _empty_path \u001b[38;5;241m=\u001b[39m Path(np\u001b[38;5;241m.\u001b[39mempty((\u001b[38;5;241m0\u001b[39m, \u001b[38;5;241m2\u001b[39m)))\n\u001b[1;32m    150\u001b[0m \u001b[38;5;28;01mclass\u001b[39;00m \u001b[38;5;21;01mMarkerStyle\u001b[39;00m:\n\u001b[1;32m    151\u001b[0m \u001b[38;5;250m    \u001b[39m\u001b[38;5;124;03m\"\"\"\u001b[39;00m\n\u001b[1;32m    152\u001b[0m \u001b[38;5;124;03m    A class representing marker types.\u001b[39;00m\n\u001b[1;32m    153\u001b[0m \n\u001b[0;32m   (...)\u001b[0m\n\u001b[1;32m    164\u001b[0m \u001b[38;5;124;03m        The supported fillstyles.\u001b[39;00m\n\u001b[1;32m    165\u001b[0m \u001b[38;5;124;03m    \"\"\"\u001b[39;00m\n",
      "File \u001b[0;32m~/miniconda3/lib/python3.12/site-packages/matplotlib/path.py:152\u001b[0m, in \u001b[0;36mPath.__init__\u001b[0;34m(self, vertices, codes, _interpolation_steps, closed, readonly)\u001b[0m\n\u001b[1;32m    150\u001b[0m \u001b[38;5;28mself\u001b[39m\u001b[38;5;241m.\u001b[39m_codes \u001b[38;5;241m=\u001b[39m codes\n\u001b[1;32m    151\u001b[0m \u001b[38;5;28mself\u001b[39m\u001b[38;5;241m.\u001b[39m_interpolation_steps \u001b[38;5;241m=\u001b[39m _interpolation_steps\n\u001b[0;32m--> 152\u001b[0m \u001b[38;5;28mself\u001b[39m\u001b[38;5;241m.\u001b[39m_update_values()\n\u001b[1;32m    154\u001b[0m \u001b[38;5;28;01mif\u001b[39;00m readonly:\n\u001b[1;32m    155\u001b[0m     \u001b[38;5;28mself\u001b[39m\u001b[38;5;241m.\u001b[39m_vertices\u001b[38;5;241m.\u001b[39mflags\u001b[38;5;241m.\u001b[39mwriteable \u001b[38;5;241m=\u001b[39m \u001b[38;5;28;01mFalse\u001b[39;00m\n",
      "File \u001b[0;32m~/miniconda3/lib/python3.12/site-packages/matplotlib/path.py:203\u001b[0m, in \u001b[0;36mPath._update_values\u001b[0;34m(self)\u001b[0m\n\u001b[1;32m    202\u001b[0m \u001b[38;5;28;01mdef\u001b[39;00m \u001b[38;5;21m_update_values\u001b[39m(\u001b[38;5;28mself\u001b[39m):\n\u001b[0;32m--> 203\u001b[0m     \u001b[38;5;28mself\u001b[39m\u001b[38;5;241m.\u001b[39m_simplify_threshold \u001b[38;5;241m=\u001b[39m mpl\u001b[38;5;241m.\u001b[39mrcParams[\u001b[38;5;124m'\u001b[39m\u001b[38;5;124mpath.simplify_threshold\u001b[39m\u001b[38;5;124m'\u001b[39m]\n\u001b[1;32m    204\u001b[0m     \u001b[38;5;28mself\u001b[39m\u001b[38;5;241m.\u001b[39m_should_simplify \u001b[38;5;241m=\u001b[39m (\n\u001b[1;32m    205\u001b[0m         \u001b[38;5;28mself\u001b[39m\u001b[38;5;241m.\u001b[39m_simplify_threshold \u001b[38;5;241m>\u001b[39m \u001b[38;5;241m0\u001b[39m \u001b[38;5;129;01mand\u001b[39;00m\n\u001b[1;32m    206\u001b[0m         mpl\u001b[38;5;241m.\u001b[39mrcParams[\u001b[38;5;124m'\u001b[39m\u001b[38;5;124mpath.simplify\u001b[39m\u001b[38;5;124m'\u001b[39m] \u001b[38;5;129;01mand\u001b[39;00m\n\u001b[1;32m    207\u001b[0m         \u001b[38;5;28mlen\u001b[39m(\u001b[38;5;28mself\u001b[39m\u001b[38;5;241m.\u001b[39m_vertices) \u001b[38;5;241m>\u001b[39m\u001b[38;5;241m=\u001b[39m \u001b[38;5;241m128\u001b[39m \u001b[38;5;129;01mand\u001b[39;00m\n\u001b[1;32m    208\u001b[0m         (\u001b[38;5;28mself\u001b[39m\u001b[38;5;241m.\u001b[39m_codes \u001b[38;5;129;01mis\u001b[39;00m \u001b[38;5;28;01mNone\u001b[39;00m \u001b[38;5;129;01mor\u001b[39;00m np\u001b[38;5;241m.\u001b[39mall(\u001b[38;5;28mself\u001b[39m\u001b[38;5;241m.\u001b[39m_codes \u001b[38;5;241m<\u001b[39m\u001b[38;5;241m=\u001b[39m Path\u001b[38;5;241m.\u001b[39mLINETO))\n\u001b[1;32m    209\u001b[0m     )\n",
      "File \u001b[0;32m~/miniconda3/lib/python3.12/site-packages/matplotlib/_api/__init__.py:217\u001b[0m, in \u001b[0;36mcaching_module_getattr.<locals>.__getattr__\u001b[0;34m(name)\u001b[0m\n\u001b[1;32m    215\u001b[0m \u001b[38;5;28;01mif\u001b[39;00m name \u001b[38;5;129;01min\u001b[39;00m props:\n\u001b[1;32m    216\u001b[0m     \u001b[38;5;28;01mreturn\u001b[39;00m props[name]\u001b[38;5;241m.\u001b[39m\u001b[38;5;21m__get__\u001b[39m(instance)\n\u001b[0;32m--> 217\u001b[0m \u001b[38;5;28;01mraise\u001b[39;00m \u001b[38;5;167;01mAttributeError\u001b[39;00m(\n\u001b[1;32m    218\u001b[0m     \u001b[38;5;124mf\u001b[39m\u001b[38;5;124m\"\u001b[39m\u001b[38;5;124mmodule \u001b[39m\u001b[38;5;132;01m{\u001b[39;00m\u001b[38;5;28mcls\u001b[39m\u001b[38;5;241m.\u001b[39m\u001b[38;5;18m__module__\u001b[39m\u001b[38;5;132;01m!r}\u001b[39;00m\u001b[38;5;124m has no attribute \u001b[39m\u001b[38;5;132;01m{\u001b[39;00mname\u001b[38;5;132;01m!r}\u001b[39;00m\u001b[38;5;124m\"\u001b[39m)\n",
      "\u001b[0;31mAttributeError\u001b[0m: module 'matplotlib' has no attribute 'rcParams'"
     ]
    }
   ],
   "source": [
    "import numpy as np\n",
    "import matplotlib.pyplot as plt\n",
    "from sklearn.model_selection import train_test_split\n",
    "\n",
    "np.random.seed(123)"
   ]
  },
  {
   "cell_type": "markdown",
   "metadata": {
    "id": "bRVwKii8_98N"
   },
   "source": [
    "## Датасет"
   ]
  },
  {
   "cell_type": "code",
   "execution_count": 2,
   "metadata": {
    "colab": {
     "base_uri": "https://localhost:8080/",
     "height": 564
    },
    "id": "m1UzCusBypep",
    "outputId": "6bbbd28d-5741-4523-9e0e-b4425c395810"
   },
   "outputs": [
    {
     "data": {
      "image/png": "[encoded data removed]",
      "text/plain": [
       "<Figure size 800x600 with 1 Axes>"
      ]
     },
     "metadata": {},
     "output_type": "display_data"
    }
   ],
   "source": [
    "# We will use a simple training set\n",
    "X = 2 * np.random.rand(50, 1)\n",
    "y = 3 * X + 4 + np.random.randn(50, 1)\n",
    "\n",
    "fig = plt.figure(figsize=(8,6))\n",
    "plt.scatter(X, y)\n",
    "plt.title(\"Набір даних\")\n",
    "plt.xlabel(\"$X$\")\n",
    "plt.ylabel(\"$y$\")\n",
    "plt.show()"
   ]
  },
  {
   "cell_type": "markdown",
   "metadata": {
    "id": "Df9GYUGXBDH9"
   },
   "source": [
    "## Поділ набору даних"
   ]
  },
  {
   "cell_type": "code",
   "execution_count": 3,
   "metadata": {
    "colab": {
     "base_uri": "https://localhost:8080/"
    },
    "id": "y_eclhoHTp1F",
    "outputId": "c4c598ab-7ad7-4336-b0f3-d9b90e1f2708"
   },
   "outputs": [
    {
     "name": "stdout",
     "output_type": "stream",
     "text": [
      "Shape X_train: (37, 1)\n",
      "Shape y_train: (37, 1)\n",
      "Shape X_test: (13, 1)\n",
      "Shape y_test: (13, 1)\n"
     ]
    }
   ],
   "source": [
    "# Split the data into a training and test set\n",
    "X_train, X_test, y_train, y_test = train_test_split(X, y)\n",
    "\n",
    "print(f'Shape X_train: {X_train.shape}')\n",
    "print(f'Shape y_train: {y_train.shape}')\n",
    "print(f'Shape X_test: {X_test.shape}')\n",
    "print(f'Shape y_test: {y_test.shape}')"
   ]
  },
  {
   "cell_type": "code",
   "execution_count": 4,
   "metadata": {
    "colab": {
     "base_uri": "https://localhost:8080/"
    },
    "id": "afdB9_DXqXnv",
    "outputId": "8b1adb83-8e81-417c-8a91-d2591ef1b2b8"
   },
   "outputs": [
    {
     "data": {
      "text/plain": [
       "(37,)"
      ]
     },
     "execution_count": 4,
     "metadata": {},
     "output_type": "execute_result"
    }
   ],
   "source": [
    "X_train[:,0].shape"
   ]
  },
  {
   "cell_type": "code",
   "execution_count": 5,
   "metadata": {
    "colab": {
     "base_uri": "https://localhost:8080/",
     "height": 564
    },
    "id": "RhLuGhJxHwdc",
    "outputId": "74b9cd15-a673-4479-e749-6124d55f0b22"
   },
   "outputs": [
    {
     "data": {
      "image/png": "[encoded data removed]",
      "text/plain": [
       "<Figure size 800x600 with 1 Axes>"
      ]
     },
     "metadata": {},
     "output_type": "display_data"
    }
   ],
   "source": [
    "fig = plt.figure(figsize=(8,6))\n",
    "plt.scatter(X_train, y_train)\n",
    "plt.title(\"Навчальний набір даних\")\n",
    "plt.xlabel(\"$X$\")\n",
    "plt.ylabel(\"$y$\")\n",
    "plt.show()"
   ]
  },
  {
   "cell_type": "code",
   "execution_count": 6,
   "metadata": {
    "colab": {
     "base_uri": "https://localhost:8080/",
     "height": 564
    },
    "id": "vrYpWAibdMVC",
    "outputId": "8a32644d-d5ae-478a-ecb2-3eb52107e20e"
   },
   "outputs": [
    {
     "data": {
      "image/png": "[encoded data removed]",
      "text/plain": [
       "<Figure size 800x600 with 1 Axes>"
      ]
     },
     "metadata": {},
     "output_type": "display_data"
    }
   ],
   "source": [
    "coef = np.polyfit(X_train[:,0], y_train[:,0], 1)\n",
    "poly1d_fn = np.poly1d(coef)  # to create a linear function with coefficients\n",
    "up = poly1d_fn(X_train[:,0]) - y_train[:,0] > 0\n",
    "low= poly1d_fn(X_train[:,0]) - y_train[:,0] < 0\n",
    "\n",
    "fig = plt.figure(figsize=(8,6))\n",
    "plt.errorbar(X_train[:,0], poly1d_fn(X_train[:,0]), yerr=abs(poly1d_fn(X_train[:,0]) - y_train[:,0]),  lolims=low, uplims = up, fmt='.k')\n",
    "plt.plot(X_train[:,0], y_train[:,0], 'o', X_train[:,0], poly1d_fn(X_train[:,0]), '-r')\n",
    "# plt.scatter(X_train, y_train)\n",
    "plt.title(\"Навчальний набір даних\")\n",
    "plt.xlabel(\"$X$\")\n",
    "plt.ylabel(\"$y$\")\n",
    "plt.show()"
   ]
  },
  {
   "cell_type": "code",
   "execution_count": 7,
   "metadata": {
    "colab": {
     "base_uri": "https://localhost:8080/",
     "height": 564
    },
    "id": "G28koYV8ddqK",
    "outputId": "0c8ea847-91d7-4c4f-846c-8ead9a0a6d9d"
   },
   "outputs": [
    {
     "data": {
      "image/png": "[encoded data removed]",
      "text/plain": [
       "<Figure size 800x600 with 1 Axes>"
      ]
     },
     "metadata": {},
     "output_type": "display_data"
    }
   ],
   "source": [
    "fig = plt.figure(figsize=(8,6))\n",
    "plt.scatter(X_test, y_test)\n",
    "plt.title(\"Тестовий набір даних\")\n",
    "plt.xlabel(\"$X$\")\n",
    "plt.ylabel(\"$y$\")\n",
    "plt.show()"
   ]
  },
  {
   "cell_type": "code",
   "execution_count": 8,
   "metadata": {
    "id": "AX1vxfwdibB5"
   },
   "outputs": [],
   "source": [
    "n_samples, m_features = X_train.shape"
   ]
  },
  {
   "cell_type": "code",
   "execution_count": 9,
   "metadata": {
    "colab": {
     "base_uri": "https://localhost:8080/"
    },
    "id": "n5GvnD6RV4y7",
    "outputId": "75ec43d9-27d8-4a05-a26f-f2837fe0b84d"
   },
   "outputs": [
    {
     "data": {
      "text/plain": [
       "37"
      ]
     },
     "execution_count": 9,
     "metadata": {},
     "output_type": "execute_result"
    }
   ],
   "source": [
    "n_samples"
   ]
  },
  {
   "cell_type": "code",
   "execution_count": 10,
   "metadata": {
    "colab": {
     "base_uri": "https://localhost:8080/"
    },
    "id": "1IobjfGIV_Zl",
    "outputId": "fbbfab28-b9a3-4c3c-d2a9-743fc1413b86"
   },
   "outputs": [
    {
     "data": {
      "text/plain": [
       "1"
      ]
     },
     "execution_count": 10,
     "metadata": {},
     "output_type": "execute_result"
    }
   ],
   "source": [
    "m_features"
   ]
  },
  {
   "cell_type": "markdown",
   "metadata": {
    "id": "LKNT3Y2TWMMV"
   },
   "source": [
    "## Змінюємо форму $X$ та $y$ обох вибірок\n",
    "$X = \\text{X_train}$, 𝑋 — матриця форми (𝑚, 𝑛)."
   ]
  },
  {
   "cell_type": "code",
   "execution_count": 11,
   "metadata": {
    "id": "Prp2FmnXXFGO"
   },
   "outputs": [],
   "source": [
    "X_train = X_train.reshape((m_features, n_samples))"
   ]
  },
  {
   "cell_type": "code",
   "execution_count": 12,
   "metadata": {
    "colab": {
     "base_uri": "https://localhost:8080/"
    },
    "id": "AUGjA27pSjYe",
    "outputId": "df7bee99-f70c-4ded-8389-b22a52f507cc"
   },
   "outputs": [
    {
     "data": {
      "text/plain": [
       "(1, 37)"
      ]
     },
     "execution_count": 12,
     "metadata": {},
     "output_type": "execute_result"
    }
   ],
   "source": [
    "X_train.shape"
   ]
  },
  {
   "cell_type": "code",
   "execution_count": 13,
   "metadata": {
    "id": "iSTdZFc4e3Ge"
   },
   "outputs": [],
   "source": [
    "X_test = X_test.reshape((X_test.shape[1], X_test.shape[0]))"
   ]
  },
  {
   "cell_type": "code",
   "execution_count": 14,
   "metadata": {
    "colab": {
     "base_uri": "https://localhost:8080/"
    },
    "id": "4KWmQx2PfP9i",
    "outputId": "62393e50-1548-4d2b-d474-ce68e99429a2"
   },
   "outputs": [
    {
     "data": {
      "text/plain": [
       "(1, 13)"
      ]
     },
     "execution_count": 14,
     "metadata": {},
     "output_type": "execute_result"
    }
   ],
   "source": [
    "X_test.shape"
   ]
  },
  {
   "cell_type": "code",
   "execution_count": 15,
   "metadata": {
    "id": "kzcvCcH4Snws"
   },
   "outputs": [],
   "source": [
    "y_train = y_train.reshape((m_features,n_samples))"
   ]
  },
  {
   "cell_type": "code",
   "execution_count": 16,
   "metadata": {
    "colab": {
     "base_uri": "https://localhost:8080/"
    },
    "id": "aZoaATzXS15a",
    "outputId": "c75ac86d-7400-40a7-a3c1-e060bd92c12b"
   },
   "outputs": [
    {
     "data": {
      "text/plain": [
       "(1, 37)"
      ]
     },
     "execution_count": 16,
     "metadata": {},
     "output_type": "execute_result"
    }
   ],
   "source": [
    "y_train.shape"
   ]
  },
  {
   "cell_type": "code",
   "execution_count": 17,
   "metadata": {
    "id": "6KwrnTB3e0nM"
   },
   "outputs": [],
   "source": [
    "y_test = y_test.reshape((y_test.shape[1], y_test.shape[0]))"
   ]
  },
  {
   "cell_type": "code",
   "execution_count": 18,
   "metadata": {
    "colab": {
     "base_uri": "https://localhost:8080/"
    },
    "id": "8qQ-YAoMfayB",
    "outputId": "fa1b49c8-7ae3-4dff-92ad-72c6f48d8edb"
   },
   "outputs": [
    {
     "data": {
      "text/plain": [
       "(1, 13)"
      ]
     },
     "execution_count": 18,
     "metadata": {},
     "output_type": "execute_result"
    }
   ],
   "source": [
    "y_test.shape"
   ]
  },
  {
   "cell_type": "markdown",
   "metadata": {
    "id": "Qpq48noEKJgY"
   },
   "source": [
    "### Крок 0: Ініціалізувати ваги та зсув"
   ]
  },
  {
   "cell_type": "code",
   "execution_count": 19,
   "metadata": {
    "id": "bfkqaTCL27hF",
    "tags": [
     "parameters_inititalization"
    ]
   },
   "outputs": [],
   "source": [
    "# TODO\n",
    "def parameters_inititalization(m):\n",
    "  \"\"\"\n",
    "  Ця функція ініціалізує вектор-рядок випадкових дійсних значень ваг форми (1, m),\n",
    "  отриманих з нормального розподілу та зсув (довільне дійсне значення)\n",
    "\n",
    "  Параметри:\n",
    "  m -- кількість вхідних ознак для кожного навчального прикладу\n",
    "\n",
    "  Повертає:\n",
    "  W -- вектор-рядок ваг форми (1, m)\n",
    "  b -- зсув (скаляр)\n",
    "  \"\"\"\n",
    "\n",
    "  # BEGIN_YOUR_CODE\n",
    "  return np.random.normal(-1, 1, (1, m)), 0\n",
    "  # END_YOUR_CODE"
   ]
  },
  {
   "cell_type": "code",
   "execution_count": 20,
   "metadata": {
    "id": "Cjoi0Pi0eIl9"
   },
   "outputs": [],
   "source": [
    "W, b = parameters_inititalization(m_features)"
   ]
  },
  {
   "cell_type": "code",
   "execution_count": 21,
   "metadata": {
    "colab": {
     "base_uri": "https://localhost:8080/"
    },
    "id": "Z_nNfaRGdLGO",
    "outputId": "f589975f-d4e9-484f-d741-17c068d7a886"
   },
   "outputs": [
    {
     "data": {
      "text/plain": [
       "array([[-1.31048223]])"
      ]
     },
     "execution_count": 21,
     "metadata": {},
     "output_type": "execute_result"
    }
   ],
   "source": [
    "W"
   ]
  },
  {
   "cell_type": "code",
   "execution_count": 22,
   "metadata": {
    "colab": {
     "base_uri": "https://localhost:8080/"
    },
    "id": "AVUfQgU3dRoj",
    "outputId": "5a134c57-ba76-4027-c7c0-3d426e5d49b6"
   },
   "outputs": [
    {
     "data": {
      "text/plain": [
       "(1, 1)"
      ]
     },
     "execution_count": 22,
     "metadata": {},
     "output_type": "execute_result"
    }
   ],
   "source": [
    "W.shape"
   ]
  },
  {
   "cell_type": "code",
   "execution_count": 23,
   "metadata": {
    "colab": {
     "base_uri": "https://localhost:8080/"
    },
    "id": "PGyt_i05dT_r",
    "outputId": "2e8f654b-7569-4040-9c42-c3255255ca6c"
   },
   "outputs": [
    {
     "data": {
      "text/plain": [
       "0"
      ]
     },
     "execution_count": 23,
     "metadata": {},
     "output_type": "execute_result"
    }
   ],
   "source": [
    "b"
   ]
  },
  {
   "cell_type": "markdown",
   "metadata": {
    "id": "SMLPcw7gNZ1d"
   },
   "source": [
    "\n",
    "\n",
    "### Крок 1: Обчислити лінійну комбінацію вхідних ознак та ваг, включаючи зсув\n",
    "\n"
   ]
  },
  {
   "cell_type": "code",
   "execution_count": 48,
   "metadata": {
    "id": "sHg5Sh8bdV3J",
    "tags": [
     "forwardPropagate"
    ]
   },
   "outputs": [],
   "source": [
    "# TODO\n",
    "def forwardPropagate(X, W, b):\n",
    "  \"\"\"\n",
    "  Ця функція обчислює лінійну комбінацію вхідних ознак та ваг, включаючи зсув\n",
    "\n",
    "  Параметри:\n",
    "  X -- вхідний вектор ознак форми (m, X_train.shape[1])\n",
    "  W -- вектор-рядок ваг форми (1, m)\n",
    "  b -- зсув моделі (скаляр)\n",
    "\n",
    "  Повертає:\n",
    "  z -- загальна зважена сума вхідних ознак, включаючи зсув\n",
    "  y_hat -- прогноз моделі\n",
    "  \"\"\"\n",
    "  # BEGIN_YOUR_CODE\n",
    "  z = np.dot(W, X) + b\n",
    "  y_hat = z\n",
    "  return z, y_hat\n",
    "  # END_YOUR_CODE"
   ]
  },
  {
   "cell_type": "code",
   "execution_count": 49,
   "metadata": {
    "id": "tScPIKEA4qgB"
   },
   "outputs": [],
   "source": [
    "z, y_hat  = forwardPropagate(X_train, W, b)"
   ]
  },
  {
   "cell_type": "code",
   "execution_count": 50,
   "metadata": {
    "colab": {
     "base_uri": "https://localhost:8080/"
    },
    "id": "JF67K5RJiEux",
    "outputId": "4044287c-b247-4ecf-ad20-32b09dccf4aa"
   },
   "outputs": [
    {
     "data": {
      "text/plain": [
       "array([[-1.25709016, -1.82122178, -0.82877392, -0.30094515, -1.88141974,\n",
       "        -0.47597455, -1.89447066, -2.22157499, -0.84362315, -1.60247954,\n",
       "        -1.08406993, -0.15453055, -1.12604284, -0.89654316, -1.13347188,\n",
       "        -2.26574857, -0.76707976, -0.94525329, -1.90649567, -1.26259273,\n",
       "        -0.65385763, -1.02463385, -0.59577355, -2.46950975, -0.81562379,\n",
       "        -1.38957789, -0.59207847, -2.33662581, -2.5778665 , -1.10574205,\n",
       "        -1.35799655, -1.88920475, -0.45754864, -1.44130516, -1.29046945,\n",
       "        -1.59758248, -1.04014606]])"
      ]
     },
     "execution_count": 50,
     "metadata": {},
     "output_type": "execute_result"
    }
   ],
   "source": [
    "z"
   ]
  },
  {
   "cell_type": "code",
   "execution_count": 51,
   "metadata": {
    "colab": {
     "base_uri": "https://localhost:8080/"
    },
    "id": "AqFrM7SwOatT",
    "outputId": "df7e9207-218e-436e-ebfd-2a8df279a189"
   },
   "outputs": [
    {
     "data": {
      "text/plain": [
       "(1, 37)"
      ]
     },
     "execution_count": 51,
     "metadata": {},
     "output_type": "execute_result"
    }
   ],
   "source": [
    "y_hat.shape"
   ]
  },
  {
   "cell_type": "markdown",
   "metadata": {
    "id": "I1L7RqCHOShJ"
   },
   "source": [
    "### Крок 2: Обчислити усереднену втрату на всьому навчальному наборі даних. Цільова функція\n",
    "\n"
   ]
  },
  {
   "cell_type": "code",
   "execution_count": 52,
   "metadata": {
    "id": "YM5DZaGIl-ei",
    "tags": [
     "cost"
    ]
   },
   "outputs": [],
   "source": [
    "# TODO\n",
    "def cost(n, y_hat, y_true):\n",
    "  \"\"\"\n",
    "  Ця функція обчислює середнє квадратичне відхилення на всьому навчальному наборі даних\n",
    "\n",
    "  Параметри:\n",
    "  n -- загальна кількість навчальних прикладів\n",
    "  y_hat -- вихідне значення лінійної регресії\n",
    "  y_true -- істинне значення залежної змінної\n",
    "\n",
    "  Повертає:\n",
    "  J --  середнє квадратичне відхилення на всьому навчальному наборі даних\n",
    "  \"\"\"\n",
    "\n",
    "  # BEGIN_YOUR_CODE\n",
    "  return (1 / n) * np.sum((y_hat - y_true) ** 2)\n",
    "  # END_YOUR_CODE"
   ]
  },
  {
   "cell_type": "code",
   "execution_count": 53,
   "metadata": {
    "colab": {
     "base_uri": "https://localhost:8080/"
    },
    "id": "GVuroIbum_4L",
    "outputId": "73af9a02-66b8-404b-c709-e2121745d1fc"
   },
   "outputs": [
    {
     "data": {
      "text/plain": [
       "74.40208317584387"
      ]
     },
     "execution_count": 53,
     "metadata": {},
     "output_type": "execute_result"
    }
   ],
   "source": [
    "J = cost(n_samples, y_hat, y_train)\n",
    "J"
   ]
  },
  {
   "cell_type": "markdown",
   "metadata": {
    "id": "bapG8TtdP4gK"
   },
   "source": [
    "### Крок 3: Розрахувати градієнти цільвої функції відносно ваг та зсуву"
   ]
  },
  {
   "cell_type": "code",
   "execution_count": 62,
   "metadata": {
    "id": "9K-Vn0mpiGng",
    "tags": [
     "backwardPropagate"
    ]
   },
   "outputs": [],
   "source": [
    "# TODO\n",
    "def backwardPropagate(n, X, y_hat, y_true):\n",
    "  \"\"\"\n",
    "  Ця функція обчислює градієнти цільвої функції відносно ваг та зсуву\n",
    "\n",
    "  Параметри:\n",
    "  n -- загальна кількість навчальних прикладів\n",
    "  X -- вхідний вектор ознак форми (1, X_train.shape[1])\n",
    "  y_hat --  вихідне значення лінійної регресії\n",
    "  y_true -- істинне значення залежної змінної\n",
    "\n",
    "  Повертає:\n",
    "  dW --  градієнт цільової функції відносно ваг моделі\n",
    "  db -- градієнт цільової функції відносно зсуву моделі\n",
    "  \"\"\"\n",
    "\n",
    "  # BEGIN_YOUR_CODE\n",
    "  first = 2 / n\n",
    "  second = y_hat - y_true\n",
    "\n",
    "  if X.shape[0] != n:\n",
    "    X = X.T\n",
    "\n",
    "  dW = first * np.sum(np.dot(second, X))\n",
    "  db = first * np.sum(second)\n",
    "  return dW, db\n",
    "  # END_YOUR_CODE"
   ]
  },
  {
   "cell_type": "code",
   "execution_count": 63,
   "metadata": {
    "id": "VirkpmD0o-1Q"
   },
   "outputs": [],
   "source": [
    "dW, db = backwardPropagate(n_samples, X_train, y_hat, y_train)"
   ]
  },
  {
   "cell_type": "code",
   "execution_count": 64,
   "metadata": {
    "colab": {
     "base_uri": "https://localhost:8080/"
    },
    "id": "z-nQYn1tqNRo",
    "outputId": "6d1fc9d5-b645-44c6-d061-874eba8d6565"
   },
   "outputs": [
    {
     "data": {
      "text/plain": [
       "-18.17827130004898"
      ]
     },
     "execution_count": 64,
     "metadata": {},
     "output_type": "execute_result"
    }
   ],
   "source": [
    "dW"
   ]
  },
  {
   "cell_type": "code",
   "execution_count": 65,
   "metadata": {
    "colab": {
     "base_uri": "https://localhost:8080/"
    },
    "id": "aLjgo0GdpMx0",
    "outputId": "5b01280c-78a3-44bc-8d5e-e6c19fe80b9c"
   },
   "outputs": [
    {
     "data": {
      "text/plain": [
       "()"
      ]
     },
     "execution_count": 65,
     "metadata": {},
     "output_type": "execute_result"
    }
   ],
   "source": [
    "dW.shape"
   ]
  },
  {
   "cell_type": "code",
   "execution_count": 66,
   "metadata": {
    "colab": {
     "base_uri": "https://localhost:8080/"
    },
    "id": "8ZBTCeXdqFJA",
    "outputId": "44b3e0cb-7fea-43d7-e2ed-2007f7c07df0"
   },
   "outputs": [
    {
     "data": {
      "text/plain": [
       "-16.653448163864226"
      ]
     },
     "execution_count": 66,
     "metadata": {},
     "output_type": "execute_result"
    }
   ],
   "source": [
    "db"
   ]
  },
  {
   "cell_type": "code",
   "execution_count": 67,
   "metadata": {
    "colab": {
     "base_uri": "https://localhost:8080/"
    },
    "id": "DAkVSaLesD_8",
    "outputId": "36dc00b5-c489-48b5-a4ed-240eb2209448"
   },
   "outputs": [
    {
     "data": {
      "text/plain": [
       "()"
      ]
     },
     "execution_count": 67,
     "metadata": {},
     "output_type": "execute_result"
    }
   ],
   "source": [
    "db.shape"
   ]
  },
  {
   "cell_type": "markdown",
   "metadata": {
    "id": "7wzrFBQPSfL5"
   },
   "source": [
    "### Крок 4: Оновити ваги та зсув"
   ]
  },
  {
   "cell_type": "code",
   "execution_count": 68,
   "metadata": {
    "id": "SwacLBbFsKHZ",
    "tags": [
     "update"
    ]
   },
   "outputs": [],
   "source": [
    "# TODO\n",
    "def update(alpha, dW, db, W, b):\n",
    "  \"\"\"\n",
    "  Ця функція оновлює навчальні параметри моделі (ваги та зсув ) у напрямку мінімізації цільової функції\n",
    "\n",
    "  Параметри:\n",
    "  alpha -- швидкість  навчання (крок навчання)\n",
    "  dW --  градієнт цільової функції відносно ваг моделі\n",
    "  db -- градієнт цільової функції відносно зсуву моделі\n",
    "  W -- вектор-рядок ваг моделі форми (1, m)\n",
    "  b -- зсув моделі (скаляр)\n",
    "\n",
    "  Повертає:\n",
    "  W -- оновлений вектор-рядок ваг моделі форми (1, m)\n",
    "  b -- оновлений зсув моделі (скаляр)\n",
    "  \"\"\"\n",
    "\n",
    "\n",
    "  # BEGIN_YOUR_CODE\n",
    "  W = W - alpha * dW\n",
    "  b = b - alpha * db\n",
    "  return W, b\n",
    "  # END_YOUR_CODE"
   ]
  },
  {
   "cell_type": "code",
   "execution_count": 69,
   "metadata": {
    "id": "7f-dOng9tKRy"
   },
   "outputs": [],
   "source": [
    "W, b = update(0.0001, dW, db, W, b)"
   ]
  },
  {
   "cell_type": "code",
   "execution_count": 70,
   "metadata": {
    "colab": {
     "base_uri": "https://localhost:8080/"
    },
    "id": "X681Y8JatVAi",
    "outputId": "ec41dfc8-09d5-451a-b519-9e4350fa0de7"
   },
   "outputs": [
    {
     "data": {
      "text/plain": [
       "array([[-1.30684582]])"
      ]
     },
     "execution_count": 70,
     "metadata": {},
     "output_type": "execute_result"
    }
   ],
   "source": [
    "W"
   ]
  },
  {
   "cell_type": "code",
   "execution_count": 71,
   "metadata": {
    "colab": {
     "base_uri": "https://localhost:8080/"
    },
    "id": "oWrWtkXhtWl4",
    "outputId": "82ef5732-3dd3-4a9c-93ee-4cd7eb87c398"
   },
   "outputs": [
    {
     "data": {
      "text/plain": [
       "0.003331378639261201"
      ]
     },
     "execution_count": 71,
     "metadata": {},
     "output_type": "execute_result"
    }
   ],
   "source": [
    "b"
   ]
  },
  {
   "cell_type": "markdown",
   "metadata": {
    "id": "YdljmLW8ljv0"
   },
   "source": [
    "# Клас лінійної регресії"
   ]
  },
  {
   "cell_type": "code",
   "execution_count": 72,
   "metadata": {
    "id": "ULkK4_oGK5AP"
   },
   "outputs": [],
   "source": [
    "class LinearRegression:\n",
    "\n",
    "  def __init__(self):\n",
    "      pass\n",
    "  def train_model(self, X, y, alpha=0.01, n_iters=100):\n",
    "    \"\"\"\n",
    "    Trains a linear regression model using gradient descent\n",
    "    \"\"\"\n",
    "    # Step 0: Initialize the parameters\n",
    "    n_features, n_samples = X.shape\n",
    "    self.W, self.b = parameters_inititalization(n_features)\n",
    "    costs = []\n",
    "    for i in range(n_iters):\n",
    "      # Step 1: Compute a linear combination of the input features and weights\n",
    "      z, y_hat = forwardPropagate(X_train, self.W, self.b)\n",
    "      # Step 2: Compute cost over training set\n",
    "      J = cost(n_samples, y_hat, y_train)\n",
    "      costs.append(J)\n",
    "      if i % 20 == 0:\n",
    "        print(f\"Усереднена втрата моделі на ітерації {i}: {J}\")\n",
    "      # Step 3: Compute the gradients\n",
    "      dW, db = backwardPropagate(n_samples, X_train, y_hat, y_train)\n",
    "      # Step 4: Update the parameters\n",
    "      self.W, self.b = update(alpha, dW, db, self.W, self.b)\n",
    "    return self.W, self.b, costs\n",
    "  def predict(self, X):\n",
    "    return np.dot(self.W, X) + self.b\n",
    "\n",
    "  def evaluate(self, X, y):\n",
    "      return 1 / X.shape[1] * np.sum(((np.dot(self.W, X) + self.b) - y)**2)"
   ]
  },
  {
   "cell_type": "code",
   "execution_count": 73,
   "metadata": {
    "colab": {
     "base_uri": "https://localhost:8080/",
     "height": 911
    },
    "id": "lrAKvTbRLMJ8",
    "outputId": "c6d3d087-dd9e-4b6c-c739-e54d7fbe7102"
   },
   "outputs": [
    {
     "name": "stdout",
     "output_type": "stream",
     "text": [
      "Усереднена втрата моделі на ітерації 0: 81.99734391395502\n",
      "Усереднена втрата моделі на ітерації 20: 2.154120452855214\n",
      "Усереднена втрата моделі на ітерації 40: 1.1540452924184892\n",
      "Усереднена втрата моделі на ітерації 60: 1.141445682108762\n",
      "Усереднена втрата моделі на ітерації 80: 1.1412281739260162\n",
      "Усереднена втрата моделі на ітерації 100: 1.1411774978017937\n",
      "Усереднена втрата моделі на ітерації 120: 1.1411383515564169\n",
      "Усереднена втрата моделі на ітерації 140: 1.141106931576974\n",
      "Усереднена втрата моделі на ітерації 160: 1.1410816975667064\n",
      "Усереднена втрата моделі на ітерації 180: 1.1410614314386802\n",
      "Усереднена втрата моделі на ітерації 200: 1.1410451551511742\n",
      "Усереднена втрата моделі на ітерації 220: 1.1410320832148257\n",
      "Усереднена втрата моделі на ітерації 240: 1.1410215847814547\n",
      "Усереднена втрата моделі на ітерації 260: 1.1410131531994536\n",
      "Усереднена втрата моделі на ітерації 280: 1.1410063815629115\n",
      "Усереднена втрата моделі на ітерації 300: 1.1410009430744463\n",
      "Усереднена втрата моделі на ітерації 320: 1.1409965752740476\n",
      "Усереднена втрата моделі на ітерації 340: 1.1409930673728281\n",
      "Усереднена втрата моделі на ітерації 360: 1.140990250080405\n",
      "Усереднена втрата моделі на ітерації 380: 1.1409879874349953\n"
     ]
    },
    {
     "data": {
      "image/png": "[encoded data removed]",
      "text/plain": [
       "<Figure size 800x600 with 1 Axes>"
      ]
     },
     "metadata": {},
     "output_type": "display_data"
    }
   ],
   "source": [
    "regressor = LinearRegression()\n",
    "w_trained, b_trained, costs = regressor.train_model(X_train, y_train, alpha=0.025, n_iters=400)\n",
    "\n",
    "fig = plt.figure(figsize=(8,6))\n",
    "plt.plot(np.arange(400), costs)\n",
    "plt.title(\"Зміна втрат моделі у ході навчання\")\n",
    "plt.xlabel(\"Кількість ітерацій\")\n",
    "plt.ylabel(\"Втрати\")\n",
    "plt.show()\n"
   ]
  },
  {
   "cell_type": "markdown",
   "metadata": {
    "id": "pFEDdRYLjyZj"
   },
   "source": [
    "# Вивчені коефіцієнти: $ W$ та $b$\n",
    "\n",
    "На початку ми згенерували вибірку за правилом: `y = 3 * X + 4 + np.random.randn(100, 1)`"
   ]
  },
  {
   "cell_type": "code",
   "execution_count": 74,
   "metadata": {
    "colab": {
     "base_uri": "https://localhost:8080/"
    },
    "id": "o_xeV0Mhjs-i",
    "outputId": "3889432b-e588-4285-eb04-a6c513a1d3dd"
   },
   "outputs": [
    {
     "data": {
      "text/plain": [
       "array([[2.8580985]])"
      ]
     },
     "execution_count": 74,
     "metadata": {},
     "output_type": "execute_result"
    }
   ],
   "source": [
    "w_trained"
   ]
  },
  {
   "cell_type": "code",
   "execution_count": 75,
   "metadata": {
    "colab": {
     "base_uri": "https://localhost:8080/"
    },
    "id": "VElU2w6ejtUB",
    "outputId": "e718e32d-8a60-486a-81d4-259c7fd021bc"
   },
   "outputs": [
    {
     "data": {
      "text/plain": [
       "4.251659985297339"
      ]
     },
     "execution_count": 75,
     "metadata": {},
     "output_type": "execute_result"
    }
   ],
   "source": [
    "b_trained"
   ]
  },
  {
   "cell_type": "code",
   "execution_count": 76,
   "metadata": {
    "colab": {
     "base_uri": "https://localhost:8080/",
     "height": 542
    },
    "id": "Q2iJAzmijnzr",
    "outputId": "0b3e481b-254f-4c6a-c3bf-35dea5dd59e7"
   },
   "outputs": [
    {
     "data": {
      "image/png": "[encoded data removed]",
      "text/plain": [
       "<Figure size 800x600 with 1 Axes>"
      ]
     },
     "metadata": {},
     "output_type": "display_data"
    }
   ],
   "source": [
    "# Plot the trained model\n",
    "\n",
    "fig = plt.figure(figsize=(8,6))\n",
    "\n",
    "plt.scatter(X_train, y_train)\n",
    "x = np.linspace(0, 2, 100)\n",
    "x = x.reshape((x.shape[0], 1))\n",
    "y_trained = w_trained * x + b_trained\n",
    "plt.plot(x, y_trained, color='red')\n",
    "plt.xlabel(\"$X$\")\n",
    "plt.ylabel(\"$y$\")\n",
    "plt.legend([\"Навчальний набір даних\" , \"Прогноз моделі\"])\n",
    "plt.show()"
   ]
  },
  {
   "cell_type": "markdown",
   "metadata": {
    "id": "gIIYcY-UktkQ"
   },
   "source": [
    "# Тестування моделі"
   ]
  },
  {
   "cell_type": "code",
   "execution_count": 77,
   "metadata": {
    "id": "bILRojcaeN5J"
   },
   "outputs": [],
   "source": [
    "y_hat_test = regressor.predict(X_test)"
   ]
  },
  {
   "cell_type": "code",
   "execution_count": 78,
   "metadata": {
    "colab": {
     "base_uri": "https://localhost:8080/",
     "height": 542
    },
    "id": "8fPLGyW4bYIC",
    "outputId": "cecd9ea2-deea-4c6a-a3f4-b294654bdda1"
   },
   "outputs": [
    {
     "data": {
      "image/png": "[encoded data removed]",
      "text/plain": [
       "<Figure size 800x600 with 1 Axes>"
      ]
     },
     "metadata": {},
     "output_type": "display_data"
    }
   ],
   "source": [
    "# Plot the test predictions\n",
    "\n",
    "fig = plt.figure(figsize=(8,6))\n",
    "plt.scatter(X_test, y_test)\n",
    "plt.scatter(X_test, y_hat_test)\n",
    "plt.xlabel(\"$X$\")\n",
    "plt.ylabel(\"$y$\")\n",
    "plt.legend([\"Тестовий набір даних\" , \"Прогноз моделі\"])\n",
    "plt.show()"
   ]
  },
  {
   "cell_type": "code",
   "execution_count": 79,
   "metadata": {
    "colab": {
     "base_uri": "https://localhost:8080/"
    },
    "id": "oGxu6kf3jVmr",
    "outputId": "2df5783f-c5c0-4554-dd58-83842dcfdfb9"
   },
   "outputs": [
    {
     "name": "stdout",
     "output_type": "stream",
     "text": [
      "Усереднена втрата моделі на тестовій вибірці 1.478149800451059\n"
     ]
    }
   ],
   "source": [
    "cost_test = regressor.evaluate(X_test, y_test)\n",
    "print(f\"Усереднена втрата моделі на тестовій вибірці {cost_test}\")"
   ]
  },
  {
   "cell_type": "markdown",
   "metadata": {
    "id": "SwXQUYwaXwic"
   },
   "source": [
    "\n",
    "\n",
    "Завдання завершено."
   ]
  }
 ],
 "metadata": {
  "celltoolbar": "Tags",
  "colab": {
   "provenance": []
  },
  "kernelspec": {
   "display_name": "Python 3 (ipykernel)",
   "language": "python",
   "name": "python3"
  },
  "language_info": {
   "codemirror_mode": {
    "name": "ipython",
    "version": 3
   },
   "file_extension": ".py",
   "mimetype": "text/x-python",
   "name": "python",
   "nbconvert_exporter": "python",
   "pygments_lexer": "ipython3",
   "version": "3.12.7"
  }
 },
 "nbformat": 4,
 "nbformat_minor": 4
}
