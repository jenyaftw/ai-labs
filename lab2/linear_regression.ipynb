{
  "cells": [
    {
      "cell_type": "markdown",
      "metadata": {
        "id": "mxImKw1UhQl7"
      },
      "source": [
        "<a href=\"https://colab.research.google.com/github/YKochura/ai-lab/blob/main/linear-regression/linear_regression.ipynb\" target=\"_parent\"><img src=\"https://colab.research.google.com/assets/colab-badge.svg\" alt=\"Open In Colab\"/></a>"
      ]
    },
    {
      "cell_type": "markdown",
      "metadata": {
        "id": "q2XBnP5_Z0pD"
      },
      "source": [
        "**Лінійна регресія** &mdash; статистичний регресійний метод, який застосовують для моделювання взаємозв'язку між скалярною залежною змінною $\\hat{y}$ та однією або кількома незалежними змінними $\\boldsymbol X$.\n",
        "\n",
        "Наприклад, ми можемо за допомогою лінійної регресії передбачати значення неперервної залежної змінної: температуру повітря, ціну акацій, тощо, використовуючи додаткову інформацію, яка характеризує задачу і представлена  в незалежній змінній $\\boldsymbol X$. Ця додаткова інформація представляє собою набір вхідних ознак за якими буде здійснюватись моделювання.\n"
      ]
    },
    {
      "cell_type": "markdown",
      "metadata": {
        "id": "b_Lh31rnBI5b",
        "tags": [
          "graph"
        ]
      },
      "source": [
        "# Модель лінійної регресії\n",
        "\n",
        "![](https://docs.google.com/uc?export=download&id=1FAY4ZeGCJ1n14d14LtivoYDsz-LhgUpH)\n",
        "\n",
        "Метод лінійної регресії полягає у знаходженні лінійної комбінації вхідних ознак (зважена сума) з урахуванням зміщення.\n",
        "\n",
        "$$\\hat y = z = \\sum_{i=1}^m w_i x_i  + b$$\n",
        "\n",
        "\n"
      ]
    },
    {
      "cell_type": "markdown",
      "metadata": {
        "id": "sfQwoDlx-YHi"
      },
      "source": [
        "Для вирішення задачі\n",
        "\n",
        "**Дано:**\n",
        "\n",
        "- Навчальний набір: $\\{(\\boldsymbol{X}^{(1)}, y^{(1)}), (\\boldsymbol{X}^{(2)}, y^{(2)}),..., (\\boldsymbol{X}^{(n)}, y^{(n)})\\}$\n",
        "\n",
        "  - де $\\boldsymbol{X}^{(i)}$ &mdash;  $i$-й навчальний приклад. Є $m$-вимірним вектором-стовпцем $\\boldsymbol{X}^{(i)} = (x^{(i)}_1, x^{(i)}_2, ..., x^{(i)}_m)$\n",
        "  - $n$ &mdash; загальна кількість навчальних прикладів\n",
        "  - $y^{(i)}$ &mdash; дійсне цільове значення $i$-го навчального прикладу , $y^{(i)} \\in \\mathbb{R}$\n",
        "\n",
        "Модель лінійної регресії:\n",
        "\n",
        "- має вектор-рядок дійсних значень ваг $\\boldsymbol{W} = \\begin{bmatrix}\n",
        "w_1 & w_2 & \\cdots & w_m\n",
        "\\end{bmatrix}$\n",
        "- має дійсне значення зміщення $b$\n"
      ]
    },
    {
      "cell_type": "markdown",
      "metadata": {
        "id": "5wtEFeieFmwI"
      },
      "source": [
        "# Навчання\n",
        "\n",
        "Ми можемо навчити модель, використовуючи градієнтний спуск. Фактично, **градієнтний спуск** або будь-який інший алгоритм оптимізації дозволяє знайти глобальний мінімум цільової функції, якщо підбрано оптимальну швидкість навчання та виконано достатню кількість ітерацій навчання.\n",
        "\n",
        "Навчання лінійної регресії має різні етапи. На початку (крок 0) ініціалізуються параметри моделі. Інші кроки повторюються протягом певної кількості епох (навчальних ітерацій).\n",
        "\n",
        "**Крок 0:** Ініціалізувати ваги та зсув (наприклад, випадковими значеннями з нормального розподілу)\n",
        "\n",
        "**Крок 1:** Обчислити лінійну комбінацію вхідних ознак та ваг і додати зсув.  Це можна зробити за один крок для всіх навчальних прикладів, використовуючи [векторизацію (vectorization)](https://www.geeksforgeeks.org/vectorization-in-python/) та  [трансляцію (broadcasting)](https://www.geeksforgeeks.org/python-broadcasting-with-numpy-arrays/)\n",
        "\n",
        "$$\\hat y =  z = W \\cdot X + b$$\n",
        "\n",
        "де $\\cdot$ скалярний добуток (поелементний добуток), $W$ &mdash;  вектор-рядок ваг з формою $(1, m)$, $X$ &mdash; матриця форми $(m, n)$, $\\hat y$ &mdash; прогноз моделі.\n",
        "\n",
        "\n",
        "**Крок 2:** Обчислити усереднену втрату на всьому навчальному наборі даних. Функцію, яка визначає усереднені втрати на всьому навчальному наборі даних, часто називають цільовою функцією або імпіричним ризиком. Основна задача оптимізаційного алгоритму &mdash;  мінімізувати у процесі навчання цільову функцію на стільки, на скільки це можливо, не втрачаючи при цьому здатності моделі узагальнювати на нових даних. Для лінійної регресії будемо розраховувати середнє квадратичне відхилення:\n",
        "\n",
        "$$\\mathcal{J}(\\hat y,y)  = \\frac{1}{n} \\sum_{i=1}^n \\Big(\\hat{y}^{(i)} -  y^{(i)} \\Big)^2$$\n",
        "\n",
        "**Крок 3:** Розрахувати градієнти цільвої функції відносно ваг та зсуву:\n",
        "\n",
        "$$\\boxed{\\begin{aligned}\n",
        "\\frac{\\partial \\mathcal{J}(\\hat y, y)}{\\partial \\hat y} &= \\frac{2}{n} \\sum_{i=1}^n \\Big(\\hat{y}^{(i)} -  y^{(i)} \\Big)   \\\\[12pt]\n",
        "\\frac{\\partial \\mathcal{J}(\\hat y, y)}{\\partial W } = \\frac{\\partial \\mathcal{J}(\\hat y, y)}{\\partial \\hat y} \\frac{\\partial \\hat y}{\\partial W }  &= \\frac{2}{n} \\sum_{i=1}^n \\Big(\\hat{y}^{(i)} -  y^{(i)} \\Big) x^{(i)}   \\\\[12pt]\n",
        "\\frac{\\partial \\mathcal{J}(\\hat y, y)}{\\partial b} =  \\frac{\\partial \\mathcal{J}(\\hat y, y)}{\\partial \\hat y} \\frac{\\partial \\hat y}{\\partial b }&=  \\frac{2}{n} \\sum_{i=1}^n \\Big(\\hat{y}^{(i)} -  y^{(i)} \\Big)\n",
        "\\end{aligned}}$$\n",
        "\n",
        "**Крок 4:** Оновити ваги та зсув моделі:\n",
        "\n",
        "$$\\boxed{\\begin{aligned}\n",
        "W &= W - \\alpha \\frac{\\partial \\mathcal{J}(\\hat y, y)}{\\partial W} \\\\[12pt]\n",
        "b &= b - \\alpha \\frac{\\partial \\mathcal{J}(\\hat y, y)}{\\partial b}\n",
        "\\end{aligned}}$$\n",
        "\n",
        "де $\\alpha$ &mdash; швидкість навчання (крок навчання)."
      ]
    },
    {
      "cell_type": "markdown",
      "metadata": {
        "id": "WU31wxOL_iBb"
      },
      "source": [
        "# Імпортупвання бібліотек"
      ]
    },
    {
      "cell_type": "code",
      "execution_count": 3,
      "metadata": {
        "id": "19xicNjUYyKR"
      },
      "outputs": [],
      "source": [
        "import numpy as np\n",
        "import matplotlib.pyplot as plt\n",
        "from sklearn.model_selection import train_test_split\n",
        "\n",
        "np.random.seed(123)"
      ]
    },
    {
      "cell_type": "markdown",
      "metadata": {
        "id": "bRVwKii8_98N"
      },
      "source": [
        "## Датасет"
      ]
    },
    {
      "cell_type": "code",
      "execution_count": 4,
      "metadata": {
        "colab": {
          "base_uri": "https://localhost:8080/",
          "height": 564
        },
        "id": "m1UzCusBypep",
        "outputId": "181a21d7-4df3-4eba-8902-0ca793959e92"
      },
      "outputs": [
        {
          "output_type": "display_data",
          "data": {
            "text/plain": [
              "<Figure size 800x600 with 1 Axes>"
            ],
            "image/png": "[encoded data removed]"
          },
          "metadata": {}
        }
      ],
      "source": [
        "# We will use a simple training set\n",
        "X = 2 * np.random.rand(50, 1)\n",
        "y = 3 * X + 4 + np.random.randn(50, 1)\n",
        "\n",
        "fig = plt.figure(figsize=(8,6))\n",
        "plt.scatter(X, y)\n",
        "plt.title(\"Набір даних\")\n",
        "plt.xlabel(\"$X$\")\n",
        "plt.ylabel(\"$y$\")\n",
        "plt.show()"
      ]
    },
    {
      "cell_type": "markdown",
      "metadata": {
        "id": "Df9GYUGXBDH9"
      },
      "source": [
        "## Поділ набору даних"
      ]
    },
    {
      "cell_type": "code",
      "execution_count": 5,
      "metadata": {
        "colab": {
          "base_uri": "https://localhost:8080/"
        },
        "id": "y_eclhoHTp1F",
        "outputId": "fb8830c8-cf91-479a-e196-d461320bd085"
      },
      "outputs": [
        {
          "output_type": "stream",
          "name": "stdout",
          "text": [
            "Shape X_train: (37, 1)\n",
            "Shape y_train: (37, 1)\n",
            "Shape X_test: (13, 1)\n",
            "Shape y_test: (13, 1)\n"
          ]
        }
      ],
      "source": [
        "# Split the data into a training and test set\n",
        "X_train, X_test, y_train, y_test = train_test_split(X, y)\n",
        "\n",
        "print(f'Shape X_train: {X_train.shape}')\n",
        "print(f'Shape y_train: {y_train.shape}')\n",
        "print(f'Shape X_test: {X_test.shape}')\n",
        "print(f'Shape y_test: {y_test.shape}')"
      ]
    },
    {
      "cell_type": "code",
      "execution_count": 6,
      "metadata": {
        "colab": {
          "base_uri": "https://localhost:8080/"
        },
        "id": "afdB9_DXqXnv",
        "outputId": "da956ee6-46e1-45c1-a693-340f11adee83"
      },
      "outputs": [
        {
          "output_type": "execute_result",
          "data": {
            "text/plain": [
              "(37,)"
            ]
          },
          "metadata": {},
          "execution_count": 6
        }
      ],
      "source": [
        "X_train[:,0].shape"
      ]
    },
    {
      "cell_type": "code",
      "execution_count": 7,
      "metadata": {
        "colab": {
          "base_uri": "https://localhost:8080/",
          "height": 564
        },
        "id": "RhLuGhJxHwdc",
        "outputId": "4863ae32-ea17-4d02-d4ee-5f19099c945a"
      },
      "outputs": [
        {
          "output_type": "display_data",
          "data": {
            "text/plain": [
              "<Figure size 800x600 with 1 Axes>"
            ],
            "image/png": "[encoded data removed]"
          },
          "metadata": {}
        }
      ],
      "source": [
        "fig = plt.figure(figsize=(8,6))\n",
        "plt.scatter(X_train, y_train)\n",
        "plt.title(\"Навчальний набір даних\")\n",
        "plt.xlabel(\"$X$\")\n",
        "plt.ylabel(\"$y$\")\n",
        "plt.show()"
      ]
    },
    {
      "cell_type": "code",
      "execution_count": 8,
      "metadata": {
        "colab": {
          "base_uri": "https://localhost:8080/",
          "height": 564
        },
        "id": "vrYpWAibdMVC",
        "outputId": "43b8bd77-f245-43cb-c664-78c48ae987cf"
      },
      "outputs": [
        {
          "output_type": "display_data",
          "data": {
            "text/plain": [
              "<Figure size 800x600 with 1 Axes>"
            ],
            "image/png": "[encoded data removed]"
          },
          "metadata": {}
        }
      ],
      "source": [
        "coef = np.polyfit(X_train[:,0], y_train[:,0], 1)\n",
        "poly1d_fn = np.poly1d(coef)  # to create a linear function with coefficients\n",
        "up = poly1d_fn(X_train[:,0]) - y_train[:,0] > 0\n",
        "low= poly1d_fn(X_train[:,0]) - y_train[:,0] < 0\n",
        "\n",
        "fig = plt.figure(figsize=(8,6))\n",
        "plt.errorbar(X_train[:,0], poly1d_fn(X_train[:,0]), yerr=abs(poly1d_fn(X_train[:,0]) - y_train[:,0]),  lolims=low, uplims = up, fmt='.k')\n",
        "plt.plot(X_train[:,0], y_train[:,0], 'o', X_train[:,0], poly1d_fn(X_train[:,0]), '-r')\n",
        "# plt.scatter(X_train, y_train)\n",
        "plt.title(\"Навчальний набір даних\")\n",
        "plt.xlabel(\"$X$\")\n",
        "plt.ylabel(\"$y$\")\n",
        "plt.show()"
      ]
    },
    {
      "cell_type": "code",
      "execution_count": 9,
      "metadata": {
        "colab": {
          "base_uri": "https://localhost:8080/",
          "height": 564
        },
        "id": "G28koYV8ddqK",
        "outputId": "8368ab66-f281-4079-cfb8-618875a1b06f"
      },
      "outputs": [
        {
          "output_type": "display_data",
          "data": {
            "text/plain": [
              "<Figure size 800x600 with 1 Axes>"
            ],
            "image/png": "[encoded data removed]"
          },
          "metadata": {}
        }
      ],
      "source": [
        "fig = plt.figure(figsize=(8,6))\n",
        "plt.scatter(X_test, y_test)\n",
        "plt.title(\"Тестовий набір даних\")\n",
        "plt.xlabel(\"$X$\")\n",
        "plt.ylabel(\"$y$\")\n",
        "plt.show()"
      ]
    },
    {
      "cell_type": "code",
      "execution_count": 10,
      "metadata": {
        "id": "AX1vxfwdibB5"
      },
      "outputs": [],
      "source": [
        "n_samples, m_features = X_train.shape"
      ]
    },
    {
      "cell_type": "code",
      "execution_count": 11,
      "metadata": {
        "colab": {
          "base_uri": "https://localhost:8080/"
        },
        "id": "n5GvnD6RV4y7",
        "outputId": "7b069bb2-d422-47d1-a96f-b38d8a7de1ae"
      },
      "outputs": [
        {
          "output_type": "execute_result",
          "data": {
            "text/plain": [
              "37"
            ]
          },
          "metadata": {},
          "execution_count": 11
        }
      ],
      "source": [
        "n_samples"
      ]
    },
    {
      "cell_type": "code",
      "execution_count": 12,
      "metadata": {
        "colab": {
          "base_uri": "https://localhost:8080/"
        },
        "id": "1IobjfGIV_Zl",
        "outputId": "0452c819-efb4-41d2-f2c0-f95d20bf9d5c"
      },
      "outputs": [
        {
          "output_type": "execute_result",
          "data": {
            "text/plain": [
              "1"
            ]
          },
          "metadata": {},
          "execution_count": 12
        }
      ],
      "source": [
        "m_features"
      ]
    },
    {
      "cell_type": "markdown",
      "metadata": {
        "id": "LKNT3Y2TWMMV"
      },
      "source": [
        "## Змінюємо форму $X$ та $y$ обох вибірок\n",
        "$X = \\text{X_train}$, 𝑋 — матриця форми (𝑚, 𝑛)."
      ]
    },
    {
      "cell_type": "code",
      "execution_count": 13,
      "metadata": {
        "id": "Prp2FmnXXFGO"
      },
      "outputs": [],
      "source": [
        "X_train = X_train.reshape((m_features, n_samples))"
      ]
    },
    {
      "cell_type": "code",
      "execution_count": 14,
      "metadata": {
        "colab": {
          "base_uri": "https://localhost:8080/"
        },
        "id": "AUGjA27pSjYe",
        "outputId": "77265c77-6984-4c1a-f4ae-f83f015cb5bd"
      },
      "outputs": [
        {
          "output_type": "execute_result",
          "data": {
            "text/plain": [
              "(1, 37)"
            ]
          },
          "metadata": {},
          "execution_count": 14
        }
      ],
      "source": [
        "X_train.shape"
      ]
    },
    {
      "cell_type": "code",
      "execution_count": 15,
      "metadata": {
        "id": "iSTdZFc4e3Ge"
      },
      "outputs": [],
      "source": [
        "X_test = X_test.reshape((X_test.shape[1], X_test.shape[0]))"
      ]
    },
    {
      "cell_type": "code",
      "execution_count": 16,
      "metadata": {
        "colab": {
          "base_uri": "https://localhost:8080/"
        },
        "id": "4KWmQx2PfP9i",
        "outputId": "4d40e78e-c972-4ec1-fef2-754cf2a16d6a"
      },
      "outputs": [
        {
          "output_type": "execute_result",
          "data": {
            "text/plain": [
              "(1, 13)"
            ]
          },
          "metadata": {},
          "execution_count": 16
        }
      ],
      "source": [
        "X_test.shape"
      ]
    },
    {
      "cell_type": "code",
      "execution_count": 17,
      "metadata": {
        "id": "kzcvCcH4Snws"
      },
      "outputs": [],
      "source": [
        "y_train = y_train.reshape((m_features,n_samples))"
      ]
    },
    {
      "cell_type": "code",
      "execution_count": 18,
      "metadata": {
        "colab": {
          "base_uri": "https://localhost:8080/"
        },
        "id": "aZoaATzXS15a",
        "outputId": "598d92d2-c5c5-43da-ec00-6a93129cee74"
      },
      "outputs": [
        {
          "output_type": "execute_result",
          "data": {
            "text/plain": [
              "(1, 37)"
            ]
          },
          "metadata": {},
          "execution_count": 18
        }
      ],
      "source": [
        "y_train.shape"
      ]
    },
    {
      "cell_type": "code",
      "execution_count": 19,
      "metadata": {
        "id": "6KwrnTB3e0nM"
      },
      "outputs": [],
      "source": [
        "y_test = y_test.reshape((y_test.shape[1], y_test.shape[0]))"
      ]
    },
    {
      "cell_type": "code",
      "execution_count": 20,
      "metadata": {
        "colab": {
          "base_uri": "https://localhost:8080/"
        },
        "id": "8qQ-YAoMfayB",
        "outputId": "2cb89f53-5652-4df6-a49d-9b594707a22c"
      },
      "outputs": [
        {
          "output_type": "execute_result",
          "data": {
            "text/plain": [
              "(1, 13)"
            ]
          },
          "metadata": {},
          "execution_count": 20
        }
      ],
      "source": [
        "y_test.shape"
      ]
    },
    {
      "cell_type": "markdown",
      "metadata": {
        "id": "Qpq48noEKJgY"
      },
      "source": [
        "### Крок 0: Ініціалізувати ваги та зсув"
      ]
    },
    {
      "cell_type": "code",
      "execution_count": 21,
      "metadata": {
        "id": "bfkqaTCL27hF",
        "tags": [
          "parameters_inititalization"
        ]
      },
      "outputs": [],
      "source": [
        "# TODO\n",
        "def parameters_inititalization(m):\n",
        "  \"\"\"\n",
        "  Ця функція ініціалізує вектор-рядок випадкових дійсних значень ваг форми (1, m),\n",
        "  отриманих з нормального розподілу та зсув (довільне дійсне значення)\n",
        "\n",
        "  Параметри:\n",
        "  m -- кількість вхідних ознак для кожного навчального прикладу\n",
        "\n",
        "  Повертає:\n",
        "  W -- вектор-рядок ваг форми (1, m)\n",
        "  b -- зсув (скаляр)\n",
        "  \"\"\"\n",
        "\n",
        "  # BEGIN_YOUR_CODE\n",
        "  return np.random.randn(1, m), 0\n",
        "  # END_YOUR_CODE"
      ]
    },
    {
      "cell_type": "code",
      "execution_count": 22,
      "metadata": {
        "id": "Cjoi0Pi0eIl9"
      },
      "outputs": [],
      "source": [
        "W, b = parameters_inititalization(m_features)"
      ]
    },
    {
      "cell_type": "code",
      "execution_count": 23,
      "metadata": {
        "colab": {
          "base_uri": "https://localhost:8080/"
        },
        "id": "Z_nNfaRGdLGO",
        "outputId": "56ae80e3-d383-4791-fccc-0f0155bdf47f"
      },
      "outputs": [
        {
          "output_type": "execute_result",
          "data": {
            "text/plain": [
              "array([[-0.31048223]])"
            ]
          },
          "metadata": {},
          "execution_count": 23
        }
      ],
      "source": [
        "W"
      ]
    },
    {
      "cell_type": "code",
      "execution_count": 24,
      "metadata": {
        "colab": {
          "base_uri": "https://localhost:8080/"
        },
        "id": "AVUfQgU3dRoj",
        "outputId": "b9b5b0cf-aca1-42e3-fd9f-6a7d78775955"
      },
      "outputs": [
        {
          "output_type": "execute_result",
          "data": {
            "text/plain": [
              "(1, 1)"
            ]
          },
          "metadata": {},
          "execution_count": 24
        }
      ],
      "source": [
        "W.shape"
      ]
    },
    {
      "cell_type": "code",
      "execution_count": 25,
      "metadata": {
        "colab": {
          "base_uri": "https://localhost:8080/"
        },
        "id": "PGyt_i05dT_r",
        "outputId": "d003da74-a679-4a36-fec2-19819e29ce62"
      },
      "outputs": [
        {
          "output_type": "execute_result",
          "data": {
            "text/plain": [
              "0"
            ]
          },
          "metadata": {},
          "execution_count": 25
        }
      ],
      "source": [
        "b"
      ]
    },
    {
      "cell_type": "markdown",
      "metadata": {
        "id": "SMLPcw7gNZ1d"
      },
      "source": [
        "\n",
        "\n",
        "### Крок 1: Обчислити лінійну комбінацію вхідних ознак та ваг, включаючи зсув\n",
        "\n"
      ]
    },
    {
      "cell_type": "code",
      "execution_count": 26,
      "metadata": {
        "id": "sHg5Sh8bdV3J",
        "tags": [
          "forwardPropagate"
        ]
      },
      "outputs": [],
      "source": [
        "# TODO\n",
        "def forwardPropagate(X, W, b):\n",
        "  \"\"\"\n",
        "  Ця функція обчислює лінійну комбінацію вхідних ознак та ваг, включаючи зсув\n",
        "\n",
        "  Параметри:\n",
        "  X -- вхідний вектор ознак форми (m, X_train.shape[1])\n",
        "  W -- вектор-рядок ваг форми (1, m)\n",
        "  b -- зсув моделі (скаляр)\n",
        "\n",
        "  Повертає:\n",
        "  z -- загальна зважена сума вхідних ознак, включаючи зсув\n",
        "  y_hat -- прогноз моделі\n",
        "  \"\"\"\n",
        "  # BEGIN_YOUR_CODE\n",
        "  z = np.dot(W, X) + b\n",
        "  y_hat = z\n",
        "  return z, y_hat\n",
        "  # END_YOUR_CODE"
      ]
    },
    {
      "cell_type": "code",
      "source": [
        "z, y_hat  = forwardPropagate(X_train, W, b)"
      ],
      "metadata": {
        "id": "tScPIKEA4qgB"
      },
      "execution_count": 27,
      "outputs": []
    },
    {
      "cell_type": "code",
      "execution_count": 28,
      "metadata": {
        "colab": {
          "base_uri": "https://localhost:8080/"
        },
        "id": "JF67K5RJiEux",
        "outputId": "73a56b24-5ab8-4484-9f56-3dab68f8f38a"
      },
      "outputs": [
        {
          "output_type": "execute_result",
          "data": {
            "text/plain": [
              "array([[-0.29864162, -0.43248262, -0.19702301, -0.07179491, -0.44676466,\n",
              "        -0.11332088, -0.44986101, -0.52746696, -0.20054601, -0.38058572,\n",
              "        -0.25759234, -0.03705785, -0.26755047, -0.21310135, -0.26931302,\n",
              "        -0.5379472 , -0.18238599, -0.2246579 , -0.45271396, -0.29994711,\n",
              "        -0.15552388, -0.24349104, -0.14174335, -0.58628982, -0.19390312,\n",
              "        -0.33007451, -0.14086669, -0.55476292, -0.6119976 , -0.26273408,\n",
              "        -0.3225818 , -0.44861167, -0.10894931, -0.34234688, -0.3065609 ,\n",
              "        -0.37942389, -0.24717134]])"
            ]
          },
          "metadata": {},
          "execution_count": 28
        }
      ],
      "source": [
        "z"
      ]
    },
    {
      "cell_type": "code",
      "execution_count": 29,
      "metadata": {
        "colab": {
          "base_uri": "https://localhost:8080/"
        },
        "id": "AqFrM7SwOatT",
        "outputId": "d62b7738-d026-4540-d645-3d9e3ed26916"
      },
      "outputs": [
        {
          "output_type": "execute_result",
          "data": {
            "text/plain": [
              "(1, 37)"
            ]
          },
          "metadata": {},
          "execution_count": 29
        }
      ],
      "source": [
        "y_hat.shape"
      ]
    },
    {
      "cell_type": "markdown",
      "metadata": {
        "id": "I1L7RqCHOShJ"
      },
      "source": [
        "### Крок 2: Обчислити усереднену втрату на всьому навчальному наборі даних. Цільова функція\n",
        "\n"
      ]
    },
    {
      "cell_type": "code",
      "execution_count": 30,
      "metadata": {
        "id": "YM5DZaGIl-ei",
        "tags": [
          "cost"
        ]
      },
      "outputs": [],
      "source": [
        "# TODO\n",
        "def cost(n, y_hat, y_true):\n",
        "  \"\"\"\n",
        "  Ця функція обчислює середнє квадратичне відхилення на всьому навчальному наборі даних\n",
        "\n",
        "  Параметри:\n",
        "  n -- загальна кількість навчальних прикладів\n",
        "  y_hat -- вихідне значення лінійної регресії\n",
        "  y_true -- істинне значення залежної змінної\n",
        "\n",
        "  Повертає:\n",
        "  J --  середнє квадратичне відхилення на всьому навчальному наборі даних\n",
        "  \"\"\"\n",
        "\n",
        "  # BEGIN_YOUR_CODE\n",
        "  return (1 / n) * np.sum((y_hat - y_true) ** 2)\n",
        "  # END_YOUR_CODE"
      ]
    },
    {
      "cell_type": "code",
      "execution_count": 31,
      "metadata": {
        "colab": {
          "base_uri": "https://localhost:8080/"
        },
        "id": "GVuroIbum_4L",
        "outputId": "9970e819-65fa-4cd2-978c-d906727f8561"
      },
      "outputs": [
        {
          "output_type": "execute_result",
          "data": {
            "text/plain": [
              "57.46077808913447"
            ]
          },
          "metadata": {},
          "execution_count": 31
        }
      ],
      "source": [
        "J = cost(n_samples, y_hat, y_train)\n",
        "J"
      ]
    },
    {
      "cell_type": "markdown",
      "metadata": {
        "id": "bapG8TtdP4gK"
      },
      "source": [
        "### Крок 3: Розрахувати градієнти цільвої функції відносно ваг та зсуву"
      ]
    },
    {
      "cell_type": "code",
      "execution_count": 32,
      "metadata": {
        "id": "9K-Vn0mpiGng",
        "tags": [
          "backwardPropagate"
        ]
      },
      "outputs": [],
      "source": [
        "# TODO\n",
        "def backwardPropagate(n, X, y_hat, y_true):\n",
        "  \"\"\"\n",
        "  Ця функція обчислює градієнти цільвої функції відносно ваг та зсуву\n",
        "\n",
        "  Параметри:\n",
        "  n -- загальна кількість навчальних прикладів\n",
        "  X -- вхідний вектор ознак форми (1, X_train.shape[1])\n",
        "  y_hat --  вихідне значення лінійної регресії\n",
        "  y_true -- істинне значення залежної змінної\n",
        "\n",
        "  Повертає:\n",
        "  dW --  градієнт цільової функції відносно ваг моделі\n",
        "  db -- градієнт цільової функції відносно зсуву моделі\n",
        "  \"\"\"\n",
        "\n",
        "  # BEGIN_YOUR_CODE\n",
        "  first = 2 / n\n",
        "  second = y_hat - y_true\n",
        "\n",
        "  if X.shape[0] != n:\n",
        "    X = X.T\n",
        "\n",
        "  dW = first * np.sum(np.dot(second, X))\n",
        "  db = first * np.sum(second)\n",
        "  return dW, db\n",
        "  # END_YOUR_CODE"
      ]
    },
    {
      "cell_type": "code",
      "execution_count": 33,
      "metadata": {
        "id": "VirkpmD0o-1Q"
      },
      "outputs": [],
      "source": [
        "dW, db = backwardPropagate(n_samples, X_train, y_hat, y_train)"
      ]
    },
    {
      "cell_type": "code",
      "execution_count": 34,
      "metadata": {
        "colab": {
          "base_uri": "https://localhost:8080/"
        },
        "id": "z-nQYn1tqNRo",
        "outputId": "827b0bbd-cf5e-4266-a942-eb8f2a89d902"
      },
      "outputs": [
        {
          "output_type": "execute_result",
          "data": {
            "text/plain": [
              "-15.818407031912626"
            ]
          },
          "metadata": {},
          "execution_count": 34
        }
      ],
      "source": [
        "dW"
      ]
    },
    {
      "cell_type": "code",
      "execution_count": 35,
      "metadata": {
        "colab": {
          "base_uri": "https://localhost:8080/"
        },
        "id": "aLjgo0GdpMx0",
        "outputId": "f2889dea-c66e-4a9c-fc59-e42edf46ae8a"
      },
      "outputs": [
        {
          "output_type": "execute_result",
          "data": {
            "text/plain": [
              "()"
            ]
          },
          "metadata": {},
          "execution_count": 35
        }
      ],
      "source": [
        "dW.shape"
      ]
    },
    {
      "cell_type": "code",
      "execution_count": 36,
      "metadata": {
        "colab": {
          "base_uri": "https://localhost:8080/"
        },
        "id": "8ZBTCeXdqFJA",
        "outputId": "fe69457c-1694-4994-e383-28a1dd33c190"
      },
      "outputs": [
        {
          "output_type": "execute_result",
          "data": {
            "text/plain": [
              "-14.703872110081507"
            ]
          },
          "metadata": {},
          "execution_count": 36
        }
      ],
      "source": [
        "db"
      ]
    },
    {
      "cell_type": "code",
      "execution_count": 37,
      "metadata": {
        "colab": {
          "base_uri": "https://localhost:8080/"
        },
        "id": "DAkVSaLesD_8",
        "outputId": "fadd44ac-4d17-4298-8d6b-fc1f03fc40f8"
      },
      "outputs": [
        {
          "output_type": "execute_result",
          "data": {
            "text/plain": [
              "()"
            ]
          },
          "metadata": {},
          "execution_count": 37
        }
      ],
      "source": [
        "db.shape"
      ]
    },
    {
      "cell_type": "markdown",
      "metadata": {
        "id": "7wzrFBQPSfL5"
      },
      "source": [
        "### Крок 4: Оновити ваги та зсув"
      ]
    },
    {
      "cell_type": "code",
      "execution_count": 38,
      "metadata": {
        "id": "SwacLBbFsKHZ",
        "tags": [
          "update"
        ]
      },
      "outputs": [],
      "source": [
        "# TODO\n",
        "def update(alpha, dW, db, W, b):\n",
        "  \"\"\"\n",
        "  Ця функція оновлює навчальні параметри моделі (ваги та зсув ) у напрямку мінімізації цільової функції\n",
        "\n",
        "  Параметри:\n",
        "  alpha -- швидкість  навчання (крок навчання)\n",
        "  dW --  градієнт цільової функції відносно ваг моделі\n",
        "  db -- градієнт цільової функції відносно зсуву моделі\n",
        "  W -- вектор-рядок ваг моделі форми (1, m)\n",
        "  b -- зсув моделі (скаляр)\n",
        "\n",
        "  Повертає:\n",
        "  W -- оновлений вектор-рядок ваг моделі форми (1, m)\n",
        "  b -- оновлений зсув моделі (скаляр)\n",
        "  \"\"\"\n",
        "\n",
        "\n",
        "  # BEGIN_YOUR_CODE\n",
        "  W = W - alpha * dW\n",
        "  b = b - alpha * db\n",
        "  return W, b\n",
        "  # END_YOUR_CODE"
      ]
    },
    {
      "cell_type": "code",
      "execution_count": 39,
      "metadata": {
        "id": "7f-dOng9tKRy"
      },
      "outputs": [],
      "source": [
        "W, b = update(0.0001, dW, db, W, b)"
      ]
    },
    {
      "cell_type": "code",
      "execution_count": 40,
      "metadata": {
        "colab": {
          "base_uri": "https://localhost:8080/"
        },
        "id": "X681Y8JatVAi",
        "outputId": "a571ad2b-9918-4018-f203-22ab999c6fd1"
      },
      "outputs": [
        {
          "output_type": "execute_result",
          "data": {
            "text/plain": [
              "array([[-0.30890039]])"
            ]
          },
          "metadata": {},
          "execution_count": 40
        }
      ],
      "source": [
        "W"
      ]
    },
    {
      "cell_type": "code",
      "execution_count": 41,
      "metadata": {
        "colab": {
          "base_uri": "https://localhost:8080/"
        },
        "id": "oWrWtkXhtWl4",
        "outputId": "9418fe0c-9405-4242-bb00-c694c6ff7bdc"
      },
      "outputs": [
        {
          "output_type": "execute_result",
          "data": {
            "text/plain": [
              "0.0014703872110081507"
            ]
          },
          "metadata": {},
          "execution_count": 41
        }
      ],
      "source": [
        "b"
      ]
    },
    {
      "cell_type": "markdown",
      "metadata": {
        "id": "YdljmLW8ljv0"
      },
      "source": [
        "# Клас лінійної регресії"
      ]
    },
    {
      "cell_type": "code",
      "execution_count": 42,
      "metadata": {
        "id": "ULkK4_oGK5AP"
      },
      "outputs": [],
      "source": [
        "class LinearRegression:\n",
        "\n",
        "  def __init__(self):\n",
        "      pass\n",
        "  def train_model(self, X, y, alpha=0.01, n_iters=100):\n",
        "    \"\"\"\n",
        "    Trains a linear regression model using gradient descent\n",
        "    \"\"\"\n",
        "    # Step 0: Initialize the parameters\n",
        "    n_features, n_samples = X.shape\n",
        "    self.W, self.b = parameters_inititalization(n_features)\n",
        "    costs = []\n",
        "    for i in range(n_iters):\n",
        "      # Step 1: Compute a linear combination of the input features and weights\n",
        "      z, y_hat = forwardPropagate(X_train, self.W, self.b)\n",
        "      # Step 2: Compute cost over training set\n",
        "      J = cost(n_samples, y_hat, y_train)\n",
        "      costs.append(J)\n",
        "      if i % 20 == 0:\n",
        "        print(f\"Усереднена втрата моделі на ітерації {i}: {J}\")\n",
        "      # Step 3: Compute the gradients\n",
        "      dW, db = backwardPropagate(n_samples, X_train, y_hat, y_train)\n",
        "      # Step 4: Update the parameters\n",
        "      self.W, self.b = update(alpha, dW, db, self.W, self.b)\n",
        "    return self.W, self.b, costs\n",
        "  def predict(self, X):\n",
        "    return np.dot(self.W, X) + self.b\n",
        "\n",
        "  def evaluate(self, X, y):\n",
        "      return 1 / X.shape[1] * np.sum(((np.dot(self.W, X) + self.b) - y)**2)"
      ]
    },
    {
      "cell_type": "code",
      "execution_count": 43,
      "metadata": {
        "colab": {
          "base_uri": "https://localhost:8080/",
          "height": 911
        },
        "id": "lrAKvTbRLMJ8",
        "outputId": "2ce1cc72-da1e-4faf-c82c-8177799a551d"
      },
      "outputs": [
        {
          "output_type": "stream",
          "name": "stdout",
          "text": [
            "Усереднена втрата моделі на ітерації 0: 48.02547900804167\n",
            "Усереднена втрата моделі на ітерації 20: 1.9074169665685652\n",
            "Усереднена втрата моделі на ітерації 40: 1.294531620730658\n",
            "Усереднена втрата моделі на ітерації 60: 1.2585151316073195\n",
            "Усереднена втрата моделі на ітерації 80: 1.2353030000711764\n",
            "Усереднена втрата моделі на ітерації 100: 1.2167322560080067\n",
            "Усереднена втрата моделі на ітерації 120: 1.2018184744273144\n",
            "Усереднена втрата моделі на ітерації 140: 1.1898408154694502\n",
            "Усереднена втрата моделі на ітерації 160: 1.1802212266558667\n",
            "Усереднена втрата моделі на ітерації 180: 1.1724954690099676\n",
            "Усереднена втрата моделі на ітерації 200: 1.1662906995158433\n",
            "Усереднена втрата моделі на ітерації 220: 1.161307477644289\n",
            "Усереднена втрата моделі на ітерації 240: 1.1573053144302263\n",
            "Усереднена втрата моделі на ітерації 260: 1.154091066539031\n",
            "Усереднена втрата моделі на ітерації 280: 1.1515096152204662\n",
            "Усереднена втрата моделі на ітерації 300: 1.1494363803189598\n",
            "Усереднена втрата моделі на ітерації 320: 1.1477713080683565\n",
            "Усереднена втрата моделі на ітерації 340: 1.1464340425237176\n",
            "Усереднена втрата моделі на ітерації 360: 1.1453600476047394\n",
            "Усереднена втрата моделі на ітерації 380: 1.1444974926016478\n"
          ]
        },
        {
          "output_type": "display_data",
          "data": {
            "text/plain": [
              "<Figure size 800x600 with 1 Axes>"
            ],
            "image/png": "[encoded data removed]"
          },
          "metadata": {}
        }
      ],
      "source": [
        "regressor = LinearRegression()\n",
        "w_trained, b_trained, costs = regressor.train_model(X_train, y_train, alpha=0.025, n_iters=400)\n",
        "\n",
        "fig = plt.figure(figsize=(8,6))\n",
        "plt.plot(np.arange(400), costs)\n",
        "plt.title(\"Зміна втрат моделі у ході навчання\")\n",
        "plt.xlabel(\"Кількість ітерацій\")\n",
        "plt.ylabel(\"Втрати\")\n",
        "plt.show()\n"
      ]
    },
    {
      "cell_type": "markdown",
      "metadata": {
        "id": "pFEDdRYLjyZj"
      },
      "source": [
        "# Вивчені коефіцієнти: $ W$ та $b$\n",
        "\n",
        "На початку ми згенерували вибірку за правилом: `y = 3 * X + 4 + np.random.randn(100, 1)`"
      ]
    },
    {
      "cell_type": "code",
      "execution_count": 44,
      "metadata": {
        "colab": {
          "base_uri": "https://localhost:8080/"
        },
        "id": "o_xeV0Mhjs-i",
        "outputId": "ece34912-1a53-449e-9774-06efd042dea6"
      },
      "outputs": [
        {
          "output_type": "execute_result",
          "data": {
            "text/plain": [
              "array([[2.96079888]])"
            ]
          },
          "metadata": {},
          "execution_count": 44
        }
      ],
      "source": [
        "w_trained"
      ]
    },
    {
      "cell_type": "code",
      "execution_count": 45,
      "metadata": {
        "colab": {
          "base_uri": "https://localhost:8080/"
        },
        "id": "VElU2w6ejtUB",
        "outputId": "0748a184-7d3a-445e-e9fd-1e0622ec4d55"
      },
      "outputs": [
        {
          "output_type": "execute_result",
          "data": {
            "text/plain": [
              "4.138864122253526"
            ]
          },
          "metadata": {},
          "execution_count": 45
        }
      ],
      "source": [
        "b_trained"
      ]
    },
    {
      "cell_type": "code",
      "execution_count": 46,
      "metadata": {
        "colab": {
          "base_uri": "https://localhost:8080/",
          "height": 542
        },
        "id": "Q2iJAzmijnzr",
        "outputId": "9d7bf388-021c-4fda-9dab-d90bb0ec8692"
      },
      "outputs": [
        {
          "output_type": "display_data",
          "data": {
            "text/plain": [
              "<Figure size 800x600 with 1 Axes>"
            ],
            "image/png": "[encoded data removed]"
          },
          "metadata": {}
        }
      ],
      "source": [
        "# Plot the trained model\n",
        "\n",
        "fig = plt.figure(figsize=(8,6))\n",
        "\n",
        "plt.scatter(X_train, y_train)\n",
        "x = np.linspace(0, 2, 100)\n",
        "x = x.reshape((x.shape[0], 1))\n",
        "y_trained = w_trained * x + b_trained\n",
        "plt.plot(x, y_trained, color='red')\n",
        "plt.xlabel(\"$X$\")\n",
        "plt.ylabel(\"$y$\")\n",
        "plt.legend([\"Навчальний набір даних\" , \"Прогноз моделі\"])\n",
        "plt.show()"
      ]
    },
    {
      "cell_type": "markdown",
      "metadata": {
        "id": "gIIYcY-UktkQ"
      },
      "source": [
        "# Тестування моделі"
      ]
    },
    {
      "cell_type": "code",
      "execution_count": 47,
      "metadata": {
        "id": "bILRojcaeN5J"
      },
      "outputs": [],
      "source": [
        "y_hat_test = regressor.predict(X_test)"
      ]
    },
    {
      "cell_type": "code",
      "execution_count": 48,
      "metadata": {
        "colab": {
          "base_uri": "https://localhost:8080/",
          "height": 542
        },
        "id": "8fPLGyW4bYIC",
        "outputId": "173a3502-e262-4208-a86f-703115b5a166"
      },
      "outputs": [
        {
          "output_type": "display_data",
          "data": {
            "text/plain": [
              "<Figure size 800x600 with 1 Axes>"
            ],
            "image/png": "[encoded data removed]"
          },
          "metadata": {}
        }
      ],
      "source": [
        "# Plot the test predictions\n",
        "\n",
        "fig = plt.figure(figsize=(8,6))\n",
        "plt.scatter(X_test, y_test)\n",
        "plt.scatter(X_test, y_hat_test)\n",
        "plt.xlabel(\"$X$\")\n",
        "plt.ylabel(\"$y$\")\n",
        "plt.legend([\"Тестовий набір даних\" , \"Прогноз моделі\"])\n",
        "plt.show()"
      ]
    },
    {
      "cell_type": "code",
      "execution_count": 49,
      "metadata": {
        "colab": {
          "base_uri": "https://localhost:8080/"
        },
        "id": "oGxu6kf3jVmr",
        "outputId": "8d31a3bd-db51-405a-9437-34fb1a578cb3"
      },
      "outputs": [
        {
          "output_type": "stream",
          "name": "stdout",
          "text": [
            "Усереднена втрата моделі на тестовій вибірці 1.4830409260522008\n"
          ]
        }
      ],
      "source": [
        "cost_test = regressor.evaluate(X_test, y_test)\n",
        "print(f\"Усереднена втрата моделі на тестовій вибірці {cost_test}\")"
      ]
    },
    {
      "cell_type": "markdown",
      "metadata": {
        "id": "SwXQUYwaXwic"
      },
      "source": [
        "\n",
        "\n",
        "Завдання завершено."
      ]
    }
  ],
  "metadata": {
    "celltoolbar": "Tags",
    "colab": {
      "provenance": []
    },
    "kernelspec": {
      "display_name": "Python 3 (ipykernel)",
      "language": "python",
      "name": "python3"
    },
    "language_info": {
      "codemirror_mode": {
        "name": "ipython",
        "version": 3
      },
      "file_extension": ".py",
      "mimetype": "text/x-python",
      "name": "python",
      "nbconvert_exporter": "python",
      "pygments_lexer": "ipython3",
      "version": "3.12.2"
    }
  },
  "nbformat": 4,
  "nbformat_minor": 0
}